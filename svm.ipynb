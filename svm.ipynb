{
  "nbformat": 4,
  "nbformat_minor": 0,
  "metadata": {
    "colab": {
      "provenance": [],
      "include_colab_link": true
    },
    "kernelspec": {
      "name": "python3",
      "display_name": "Python 3"
    },
    "accelerator": "GPU"
  },
  "cells": [
    {
      "cell_type": "markdown",
      "metadata": {
        "id": "view-in-github",
        "colab_type": "text"
      },
      "source": [
        "<a href=\"https://colab.research.google.com/github/Rishabh242002/Electricity_theft_detection/blob/main/svm.ipynb\" target=\"_parent\"><img src=\"https://colab.research.google.com/assets/colab-badge.svg\" alt=\"Open In Colab\"/></a>"
      ]
    },
    {
      "cell_type": "code",
      "metadata": {
        "id": "bCB05rsV_dd-",
        "colab": {
          "base_uri": "https://localhost:8080/"
        },
        "outputId": "80f3740f-1175-4ba6-e55b-382bdddd3b69"
      },
      "source": [
        "from google.colab import drive\n",
        "drive.mount('/content/drive')"
      ],
      "execution_count": null,
      "outputs": [
        {
          "output_type": "stream",
          "name": "stdout",
          "text": [
            "Mounted at /content/drive\n"
          ]
        }
      ]
    },
    {
      "cell_type": "code",
      "metadata": {
        "id": "JgIS60QJ_evZ"
      },
      "source": [
        "!ln -s /content/drive/My\\ Drive/ /mydrive"
      ],
      "execution_count": null,
      "outputs": []
    },
    {
      "cell_type": "code",
      "metadata": {
        "id": "g3kaa0VrAm4p"
      },
      "source": [
        "import numpy as np\n",
        "import pandas as pd\n",
        "import matplotlib.pyplot as plt\n",
        "%matplotlib inline"
      ],
      "execution_count": null,
      "outputs": []
    },
    {
      "cell_type": "code",
      "metadata": {
        "id": "yVjAOI5MAWeD"
      },
      "source": [
        "df = pd.read_csv('/content/drive/MyDrive/data_final.csv')"
      ],
      "execution_count": null,
      "outputs": []
    },
    {
      "cell_type": "code",
      "metadata": {
        "id": "ljE9wDvwAk_u"
      },
      "source": [
        "df.drop(['Unnamed: 0'],axis =1,inplace=True)"
      ],
      "execution_count": null,
      "outputs": []
    },
    {
      "cell_type": "code",
      "metadata": {
        "id": "5gLp-kc7xkOh"
      },
      "source": [
        "data = df[1000:10000]\n",
        "#data.drop(['Unnamed: 0'],axis =1,inplace=True)\n",
        "data.to_csv('test_data.csv')"
      ],
      "execution_count": null,
      "outputs": []
    },
    {
      "cell_type": "code",
      "metadata": {
        "colab": {
          "base_uri": "https://localhost:8080/"
        },
        "id": "6Oxofj19P1At",
        "outputId": "5166333e-beb3-4dc9-9432-256d36074118"
      },
      "source": [
        "Y = data['OutPut']\n",
        "data.drop(['OutPut'],axis=1,inplace=True)"
      ],
      "execution_count": null,
      "outputs": [
        {
          "output_type": "stream",
          "name": "stderr",
          "text": [
            "/usr/local/lib/python3.7/dist-packages/pandas/core/frame.py:4913: SettingWithCopyWarning: \n",
            "A value is trying to be set on a copy of a slice from a DataFrame\n",
            "\n",
            "See the caveats in the documentation: https://pandas.pydata.org/pandas-docs/stable/user_guide/indexing.html#returning-a-view-versus-a-copy\n",
            "  errors=errors,\n"
          ]
        }
      ]
    },
    {
      "cell_type": "markdown",
      "metadata": {
        "id": "hfkMxRRXP5u1"
      },
      "source": [
        "##Full data"
      ]
    },
    {
      "cell_type": "code",
      "metadata": {
        "id": "HOrLkRYwJxdL"
      },
      "source": [
        "Y = df['OutPut']\n",
        "df.drop(['OutPut'],axis=1,inplace=True)"
      ],
      "execution_count": null,
      "outputs": []
    },
    {
      "cell_type": "code",
      "metadata": {
        "id": "E0UO4queFloR",
        "colab": {
          "base_uri": "https://localhost:8080/"
        },
        "outputId": "f6304333-0a8a-4a97-b6b4-19fac12adbf0"
      },
      "source": [
        "#Count no of 1 in Y\n",
        "count = 0;\n",
        "for i in Y:\n",
        "  if(i==1):\n",
        "    count = count+1\n",
        "print(count)\n"
      ],
      "execution_count": null,
      "outputs": [
        {
          "output_type": "stream",
          "name": "stdout",
          "text": [
            "3615\n"
          ]
        }
      ]
    },
    {
      "cell_type": "code",
      "metadata": {
        "id": "anqDvyDJ_iYu",
        "colab": {
          "base_uri": "https://localhost:8080/"
        },
        "outputId": "a93ea44f-1193-40fa-87d5-84dbe8807ddb"
      },
      "source": [
        "# Count no of 0 in Y\n",
        "len(Y)-count"
      ],
      "execution_count": null,
      "outputs": [
        {
          "output_type": "execute_result",
          "data": {
            "text/plain": [
              "30226"
            ]
          },
          "metadata": {},
          "execution_count": 10
        }
      ]
    },
    {
      "cell_type": "code",
      "metadata": {
        "id": "sReTMdKfFJPf",
        "colab": {
          "base_uri": "https://localhost:8080/",
          "height": 468
        },
        "outputId": "ca9480fb-8e1b-4cd1-e97f-9198f00bed39"
      },
      "source": [
        "df"
      ],
      "execution_count": null,
      "outputs": [
        {
          "output_type": "execute_result",
          "data": {
            "text/plain": [
              "          0     1     2     3     4     5     6     7     8     9  ...  \\\n",
              "0      0.00  0.00  0.00  0.00  0.00  0.00  0.00  0.00  0.00  0.00  ...   \n",
              "1      0.00  0.00  0.00  0.00  0.00  0.00  0.00  0.00  0.00  0.00  ...   \n",
              "2      0.00  0.00  0.00  0.00  0.00  0.00  0.00  0.00  0.00  0.00  ...   \n",
              "3      0.00  0.00  0.00  0.00  0.00  0.00  0.00  0.00  0.00  0.00  ...   \n",
              "4      2.90  3.42  3.81  4.58  3.56  4.25  3.86  3.53  3.41  0.85  ...   \n",
              "...     ...   ...   ...   ...   ...   ...   ...   ...   ...   ...  ...   \n",
              "33836  0.00  0.00  0.00  0.00  0.00  0.00  0.00  0.00  0.00  0.00  ...   \n",
              "33837  1.84  1.82  2.26  1.80  1.24  1.69  1.95  1.20  1.29  1.36  ...   \n",
              "33838  0.00  0.00  0.00  0.00  0.00  0.00  0.00  0.00  0.00  0.00  ...   \n",
              "33839  0.08  0.25  0.08  0.10  0.00  0.00  0.00  0.00  0.05  0.14  ...   \n",
              "33840  0.00  0.00  0.00  0.00  0.00  0.00  0.00  0.00  0.00  0.00  ...   \n",
              "\n",
              "         1024     1025    1026     1027     1028    1029    1030    1031  \\\n",
              "0       10.12    9.960   16.92    7.600   27.161   18.05   26.47   18.75   \n",
              "1        0.00    0.000    0.00    0.000    0.000    0.00    0.00    0.00   \n",
              "2        0.00    0.000    0.00    0.000    0.000    0.00    0.00    0.00   \n",
              "3        6.50    9.990   11.78   18.590   26.800   18.57   14.59   12.82   \n",
              "4       17.77   10.370   15.32   13.510   12.230   14.68   16.35   18.14   \n",
              "...       ...      ...     ...      ...      ...     ...     ...     ...   \n",
              "33836  223.88  184.340  172.69  205.440  207.640  233.38  194.74  183.91   \n",
              "33837    0.83    4.830    6.50    6.915    7.330    5.83    7.00    5.48   \n",
              "33838    5.97    5.700    6.41    6.880    9.700    8.25    8.91    8.30   \n",
              "33839    0.24    0.366    0.16    0.160    0.170    0.19    0.29    0.23   \n",
              "33840    0.00    0.000    0.00    0.000    0.000    0.00    0.00    0.00   \n",
              "\n",
              "         1032     1033  \n",
              "0       17.84   14.920  \n",
              "1        0.00    0.000  \n",
              "2        0.00    0.000  \n",
              "3       19.37   15.920  \n",
              "4       18.41   17.310  \n",
              "...       ...      ...  \n",
              "33836  182.19  246.034  \n",
              "33837    5.16    8.160  \n",
              "33838    7.41    7.800  \n",
              "33839    0.20    0.260  \n",
              "33840    0.00    0.000  \n",
              "\n",
              "[33841 rows x 1034 columns]"
            ],
            "text/html": [
              "\n",
              "  <div id=\"df-00607663-0221-4b1b-b429-5ba16237099a\">\n",
              "    <div class=\"colab-df-container\">\n",
              "      <div>\n",
              "<style scoped>\n",
              "    .dataframe tbody tr th:only-of-type {\n",
              "        vertical-align: middle;\n",
              "    }\n",
              "\n",
              "    .dataframe tbody tr th {\n",
              "        vertical-align: top;\n",
              "    }\n",
              "\n",
              "    .dataframe thead th {\n",
              "        text-align: right;\n",
              "    }\n",
              "</style>\n",
              "<table border=\"1\" class=\"dataframe\">\n",
              "  <thead>\n",
              "    <tr style=\"text-align: right;\">\n",
              "      <th></th>\n",
              "      <th>0</th>\n",
              "      <th>1</th>\n",
              "      <th>2</th>\n",
              "      <th>3</th>\n",
              "      <th>4</th>\n",
              "      <th>5</th>\n",
              "      <th>6</th>\n",
              "      <th>7</th>\n",
              "      <th>8</th>\n",
              "      <th>9</th>\n",
              "      <th>...</th>\n",
              "      <th>1024</th>\n",
              "      <th>1025</th>\n",
              "      <th>1026</th>\n",
              "      <th>1027</th>\n",
              "      <th>1028</th>\n",
              "      <th>1029</th>\n",
              "      <th>1030</th>\n",
              "      <th>1031</th>\n",
              "      <th>1032</th>\n",
              "      <th>1033</th>\n",
              "    </tr>\n",
              "  </thead>\n",
              "  <tbody>\n",
              "    <tr>\n",
              "      <th>0</th>\n",
              "      <td>0.00</td>\n",
              "      <td>0.00</td>\n",
              "      <td>0.00</td>\n",
              "      <td>0.00</td>\n",
              "      <td>0.00</td>\n",
              "      <td>0.00</td>\n",
              "      <td>0.00</td>\n",
              "      <td>0.00</td>\n",
              "      <td>0.00</td>\n",
              "      <td>0.00</td>\n",
              "      <td>...</td>\n",
              "      <td>10.12</td>\n",
              "      <td>9.960</td>\n",
              "      <td>16.92</td>\n",
              "      <td>7.600</td>\n",
              "      <td>27.161</td>\n",
              "      <td>18.05</td>\n",
              "      <td>26.47</td>\n",
              "      <td>18.75</td>\n",
              "      <td>17.84</td>\n",
              "      <td>14.920</td>\n",
              "    </tr>\n",
              "    <tr>\n",
              "      <th>1</th>\n",
              "      <td>0.00</td>\n",
              "      <td>0.00</td>\n",
              "      <td>0.00</td>\n",
              "      <td>0.00</td>\n",
              "      <td>0.00</td>\n",
              "      <td>0.00</td>\n",
              "      <td>0.00</td>\n",
              "      <td>0.00</td>\n",
              "      <td>0.00</td>\n",
              "      <td>0.00</td>\n",
              "      <td>...</td>\n",
              "      <td>0.00</td>\n",
              "      <td>0.000</td>\n",
              "      <td>0.00</td>\n",
              "      <td>0.000</td>\n",
              "      <td>0.000</td>\n",
              "      <td>0.00</td>\n",
              "      <td>0.00</td>\n",
              "      <td>0.00</td>\n",
              "      <td>0.00</td>\n",
              "      <td>0.000</td>\n",
              "    </tr>\n",
              "    <tr>\n",
              "      <th>2</th>\n",
              "      <td>0.00</td>\n",
              "      <td>0.00</td>\n",
              "      <td>0.00</td>\n",
              "      <td>0.00</td>\n",
              "      <td>0.00</td>\n",
              "      <td>0.00</td>\n",
              "      <td>0.00</td>\n",
              "      <td>0.00</td>\n",
              "      <td>0.00</td>\n",
              "      <td>0.00</td>\n",
              "      <td>...</td>\n",
              "      <td>0.00</td>\n",
              "      <td>0.000</td>\n",
              "      <td>0.00</td>\n",
              "      <td>0.000</td>\n",
              "      <td>0.000</td>\n",
              "      <td>0.00</td>\n",
              "      <td>0.00</td>\n",
              "      <td>0.00</td>\n",
              "      <td>0.00</td>\n",
              "      <td>0.000</td>\n",
              "    </tr>\n",
              "    <tr>\n",
              "      <th>3</th>\n",
              "      <td>0.00</td>\n",
              "      <td>0.00</td>\n",
              "      <td>0.00</td>\n",
              "      <td>0.00</td>\n",
              "      <td>0.00</td>\n",
              "      <td>0.00</td>\n",
              "      <td>0.00</td>\n",
              "      <td>0.00</td>\n",
              "      <td>0.00</td>\n",
              "      <td>0.00</td>\n",
              "      <td>...</td>\n",
              "      <td>6.50</td>\n",
              "      <td>9.990</td>\n",
              "      <td>11.78</td>\n",
              "      <td>18.590</td>\n",
              "      <td>26.800</td>\n",
              "      <td>18.57</td>\n",
              "      <td>14.59</td>\n",
              "      <td>12.82</td>\n",
              "      <td>19.37</td>\n",
              "      <td>15.920</td>\n",
              "    </tr>\n",
              "    <tr>\n",
              "      <th>4</th>\n",
              "      <td>2.90</td>\n",
              "      <td>3.42</td>\n",
              "      <td>3.81</td>\n",
              "      <td>4.58</td>\n",
              "      <td>3.56</td>\n",
              "      <td>4.25</td>\n",
              "      <td>3.86</td>\n",
              "      <td>3.53</td>\n",
              "      <td>3.41</td>\n",
              "      <td>0.85</td>\n",
              "      <td>...</td>\n",
              "      <td>17.77</td>\n",
              "      <td>10.370</td>\n",
              "      <td>15.32</td>\n",
              "      <td>13.510</td>\n",
              "      <td>12.230</td>\n",
              "      <td>14.68</td>\n",
              "      <td>16.35</td>\n",
              "      <td>18.14</td>\n",
              "      <td>18.41</td>\n",
              "      <td>17.310</td>\n",
              "    </tr>\n",
              "    <tr>\n",
              "      <th>...</th>\n",
              "      <td>...</td>\n",
              "      <td>...</td>\n",
              "      <td>...</td>\n",
              "      <td>...</td>\n",
              "      <td>...</td>\n",
              "      <td>...</td>\n",
              "      <td>...</td>\n",
              "      <td>...</td>\n",
              "      <td>...</td>\n",
              "      <td>...</td>\n",
              "      <td>...</td>\n",
              "      <td>...</td>\n",
              "      <td>...</td>\n",
              "      <td>...</td>\n",
              "      <td>...</td>\n",
              "      <td>...</td>\n",
              "      <td>...</td>\n",
              "      <td>...</td>\n",
              "      <td>...</td>\n",
              "      <td>...</td>\n",
              "      <td>...</td>\n",
              "    </tr>\n",
              "    <tr>\n",
              "      <th>33836</th>\n",
              "      <td>0.00</td>\n",
              "      <td>0.00</td>\n",
              "      <td>0.00</td>\n",
              "      <td>0.00</td>\n",
              "      <td>0.00</td>\n",
              "      <td>0.00</td>\n",
              "      <td>0.00</td>\n",
              "      <td>0.00</td>\n",
              "      <td>0.00</td>\n",
              "      <td>0.00</td>\n",
              "      <td>...</td>\n",
              "      <td>223.88</td>\n",
              "      <td>184.340</td>\n",
              "      <td>172.69</td>\n",
              "      <td>205.440</td>\n",
              "      <td>207.640</td>\n",
              "      <td>233.38</td>\n",
              "      <td>194.74</td>\n",
              "      <td>183.91</td>\n",
              "      <td>182.19</td>\n",
              "      <td>246.034</td>\n",
              "    </tr>\n",
              "    <tr>\n",
              "      <th>33837</th>\n",
              "      <td>1.84</td>\n",
              "      <td>1.82</td>\n",
              "      <td>2.26</td>\n",
              "      <td>1.80</td>\n",
              "      <td>1.24</td>\n",
              "      <td>1.69</td>\n",
              "      <td>1.95</td>\n",
              "      <td>1.20</td>\n",
              "      <td>1.29</td>\n",
              "      <td>1.36</td>\n",
              "      <td>...</td>\n",
              "      <td>0.83</td>\n",
              "      <td>4.830</td>\n",
              "      <td>6.50</td>\n",
              "      <td>6.915</td>\n",
              "      <td>7.330</td>\n",
              "      <td>5.83</td>\n",
              "      <td>7.00</td>\n",
              "      <td>5.48</td>\n",
              "      <td>5.16</td>\n",
              "      <td>8.160</td>\n",
              "    </tr>\n",
              "    <tr>\n",
              "      <th>33838</th>\n",
              "      <td>0.00</td>\n",
              "      <td>0.00</td>\n",
              "      <td>0.00</td>\n",
              "      <td>0.00</td>\n",
              "      <td>0.00</td>\n",
              "      <td>0.00</td>\n",
              "      <td>0.00</td>\n",
              "      <td>0.00</td>\n",
              "      <td>0.00</td>\n",
              "      <td>0.00</td>\n",
              "      <td>...</td>\n",
              "      <td>5.97</td>\n",
              "      <td>5.700</td>\n",
              "      <td>6.41</td>\n",
              "      <td>6.880</td>\n",
              "      <td>9.700</td>\n",
              "      <td>8.25</td>\n",
              "      <td>8.91</td>\n",
              "      <td>8.30</td>\n",
              "      <td>7.41</td>\n",
              "      <td>7.800</td>\n",
              "    </tr>\n",
              "    <tr>\n",
              "      <th>33839</th>\n",
              "      <td>0.08</td>\n",
              "      <td>0.25</td>\n",
              "      <td>0.08</td>\n",
              "      <td>0.10</td>\n",
              "      <td>0.00</td>\n",
              "      <td>0.00</td>\n",
              "      <td>0.00</td>\n",
              "      <td>0.00</td>\n",
              "      <td>0.05</td>\n",
              "      <td>0.14</td>\n",
              "      <td>...</td>\n",
              "      <td>0.24</td>\n",
              "      <td>0.366</td>\n",
              "      <td>0.16</td>\n",
              "      <td>0.160</td>\n",
              "      <td>0.170</td>\n",
              "      <td>0.19</td>\n",
              "      <td>0.29</td>\n",
              "      <td>0.23</td>\n",
              "      <td>0.20</td>\n",
              "      <td>0.260</td>\n",
              "    </tr>\n",
              "    <tr>\n",
              "      <th>33840</th>\n",
              "      <td>0.00</td>\n",
              "      <td>0.00</td>\n",
              "      <td>0.00</td>\n",
              "      <td>0.00</td>\n",
              "      <td>0.00</td>\n",
              "      <td>0.00</td>\n",
              "      <td>0.00</td>\n",
              "      <td>0.00</td>\n",
              "      <td>0.00</td>\n",
              "      <td>0.00</td>\n",
              "      <td>...</td>\n",
              "      <td>0.00</td>\n",
              "      <td>0.000</td>\n",
              "      <td>0.00</td>\n",
              "      <td>0.000</td>\n",
              "      <td>0.000</td>\n",
              "      <td>0.00</td>\n",
              "      <td>0.00</td>\n",
              "      <td>0.00</td>\n",
              "      <td>0.00</td>\n",
              "      <td>0.000</td>\n",
              "    </tr>\n",
              "  </tbody>\n",
              "</table>\n",
              "<p>33841 rows × 1034 columns</p>\n",
              "</div>\n",
              "      <button class=\"colab-df-convert\" onclick=\"convertToInteractive('df-00607663-0221-4b1b-b429-5ba16237099a')\"\n",
              "              title=\"Convert this dataframe to an interactive table.\"\n",
              "              style=\"display:none;\">\n",
              "        \n",
              "  <svg xmlns=\"http://www.w3.org/2000/svg\" height=\"24px\"viewBox=\"0 0 24 24\"\n",
              "       width=\"24px\">\n",
              "    <path d=\"M0 0h24v24H0V0z\" fill=\"none\"/>\n",
              "    <path d=\"M18.56 5.44l.94 2.06.94-2.06 2.06-.94-2.06-.94-.94-2.06-.94 2.06-2.06.94zm-11 1L8.5 8.5l.94-2.06 2.06-.94-2.06-.94L8.5 2.5l-.94 2.06-2.06.94zm10 10l.94 2.06.94-2.06 2.06-.94-2.06-.94-.94-2.06-.94 2.06-2.06.94z\"/><path d=\"M17.41 7.96l-1.37-1.37c-.4-.4-.92-.59-1.43-.59-.52 0-1.04.2-1.43.59L10.3 9.45l-7.72 7.72c-.78.78-.78 2.05 0 2.83L4 21.41c.39.39.9.59 1.41.59.51 0 1.02-.2 1.41-.59l7.78-7.78 2.81-2.81c.8-.78.8-2.07 0-2.86zM5.41 20L4 18.59l7.72-7.72 1.47 1.35L5.41 20z\"/>\n",
              "  </svg>\n",
              "      </button>\n",
              "      \n",
              "  <style>\n",
              "    .colab-df-container {\n",
              "      display:flex;\n",
              "      flex-wrap:wrap;\n",
              "      gap: 12px;\n",
              "    }\n",
              "\n",
              "    .colab-df-convert {\n",
              "      background-color: #E8F0FE;\n",
              "      border: none;\n",
              "      border-radius: 50%;\n",
              "      cursor: pointer;\n",
              "      display: none;\n",
              "      fill: #1967D2;\n",
              "      height: 32px;\n",
              "      padding: 0 0 0 0;\n",
              "      width: 32px;\n",
              "    }\n",
              "\n",
              "    .colab-df-convert:hover {\n",
              "      background-color: #E2EBFA;\n",
              "      box-shadow: 0px 1px 2px rgba(60, 64, 67, 0.3), 0px 1px 3px 1px rgba(60, 64, 67, 0.15);\n",
              "      fill: #174EA6;\n",
              "    }\n",
              "\n",
              "    [theme=dark] .colab-df-convert {\n",
              "      background-color: #3B4455;\n",
              "      fill: #D2E3FC;\n",
              "    }\n",
              "\n",
              "    [theme=dark] .colab-df-convert:hover {\n",
              "      background-color: #434B5C;\n",
              "      box-shadow: 0px 1px 3px 1px rgba(0, 0, 0, 0.15);\n",
              "      filter: drop-shadow(0px 1px 2px rgba(0, 0, 0, 0.3));\n",
              "      fill: #FFFFFF;\n",
              "    }\n",
              "  </style>\n",
              "\n",
              "      <script>\n",
              "        const buttonEl =\n",
              "          document.querySelector('#df-00607663-0221-4b1b-b429-5ba16237099a button.colab-df-convert');\n",
              "        buttonEl.style.display =\n",
              "          google.colab.kernel.accessAllowed ? 'block' : 'none';\n",
              "\n",
              "        async function convertToInteractive(key) {\n",
              "          const element = document.querySelector('#df-00607663-0221-4b1b-b429-5ba16237099a');\n",
              "          const dataTable =\n",
              "            await google.colab.kernel.invokeFunction('convertToInteractive',\n",
              "                                                     [key], {});\n",
              "          if (!dataTable) return;\n",
              "\n",
              "          const docLinkHtml = 'Like what you see? Visit the ' +\n",
              "            '<a target=\"_blank\" href=https://colab.research.google.com/notebooks/data_table.ipynb>data table notebook</a>'\n",
              "            + ' to learn more about interactive tables.';\n",
              "          element.innerHTML = '';\n",
              "          dataTable['output_type'] = 'display_data';\n",
              "          await google.colab.output.renderOutput(dataTable, element);\n",
              "          const docLink = document.createElement('div');\n",
              "          docLink.innerHTML = docLinkHtml;\n",
              "          element.appendChild(docLink);\n",
              "        }\n",
              "      </script>\n",
              "    </div>\n",
              "  </div>\n",
              "  "
            ]
          },
          "metadata": {},
          "execution_count": 11
        }
      ]
    },
    {
      "cell_type": "code",
      "metadata": {
        "id": "84qYOwjzrkLx"
      },
      "source": [
        "abn_x = df.iloc[4]\n",
        "nor_x = df.iloc[33837]"
      ],
      "execution_count": null,
      "outputs": []
    },
    {
      "cell_type": "code",
      "metadata": {
        "id": "j01X_9dcxS6N",
        "colab": {
          "base_uri": "https://localhost:8080/",
          "height": 279
        },
        "outputId": "b7fea705-ce89-4068-c1ef-7100d5d9765c"
      },
      "source": [
        "import matplotlib.pyplot as plt\n",
        "%matplotlib inline\n",
        "plt.plot(abn_x,'r-')\n",
        "plt.plot(nor_x,'g-')\n",
        "plt.xlabel('Days')\n",
        "plt.ylabel('Electricity Consumption (kwh) by Date ')\n",
        "plt.show()"
      ],
      "execution_count": null,
      "outputs": [
        {
          "output_type": "display_data",
          "data": {
            "text/plain": [
              "<Figure size 432x288 with 1 Axes>"
            ],
            "image/png": "[encoded data removed]"
          },
          "metadata": {
            "needs_background": "light"
          }
        }
      ]
    },
    {
      "cell_type": "code",
      "metadata": {
        "id": "BGRt5V99LLvg"
      },
      "source": [
        "x = np.array(df)\n",
        "y = np.array(Y)"
      ],
      "execution_count": null,
      "outputs": []
    },
    {
      "cell_type": "code",
      "metadata": {
        "id": "KVZJ2DqULfPm",
        "colab": {
          "base_uri": "https://localhost:8080/"
        },
        "outputId": "10fe7205-69d1-4912-8d2c-0313f544beca"
      },
      "source": [
        "print(x.shape)\n",
        "print(y.shape)"
      ],
      "execution_count": null,
      "outputs": [
        {
          "output_type": "stream",
          "name": "stdout",
          "text": [
            "(33841, 1034)\n",
            "(33841,)\n"
          ]
        }
      ]
    },
    {
      "cell_type": "code",
      "metadata": {
        "id": "aulU9AqgL0S2"
      },
      "source": [
        "from sklearn.model_selection import train_test_split\n",
        "x_train, x_test, y_train, y_test = train_test_split(x, y, test_size=0.1)"
      ],
      "execution_count": null,
      "outputs": []
    },
    {
      "cell_type": "code",
      "metadata": {
        "id": "MzhojbvUNQH2",
        "colab": {
          "base_uri": "https://localhost:8080/"
        },
        "outputId": "a558350f-9043-4f12-b0c1-f0a482ef8ca8"
      },
      "source": [
        "print(x_train.shape)\n",
        "print(y_train.shape)\n",
        "print(x_test.shape)\n",
        "print(y_test.shape)"
      ],
      "execution_count": null,
      "outputs": [
        {
          "output_type": "stream",
          "name": "stdout",
          "text": [
            "(30456, 1034)\n",
            "(30456,)\n",
            "(3385, 1034)\n",
            "(3385,)\n"
          ]
        }
      ]
    },
    {
      "cell_type": "code",
      "metadata": {
        "id": "DjV1ssh_NWx1"
      },
      "source": [
        "from sklearn import svm"
      ],
      "execution_count": null,
      "outputs": []
    },
    {
      "cell_type": "code",
      "metadata": {
        "id": "KEM3DFXhOLt2",
        "colab": {
          "base_uri": "https://localhost:8080/"
        },
        "outputId": "a328b8d0-8f91-4b20-8c95-eaf8d8521d6a"
      },
      "source": [
        "clf = svm.SVC() #C = 100, degree = 10, kernel = 'rbf',\n",
        "clf.fit(x_train, y_train)"
      ],
      "execution_count": null,
      "outputs": [
        {
          "output_type": "execute_result",
          "data": {
            "text/plain": [
              "SVC()"
            ]
          },
          "metadata": {},
          "execution_count": 19
        }
      ]
    },
    {
      "cell_type": "code",
      "metadata": {
        "id": "iZGIWxexOZGG"
      },
      "source": [
        "y_pred = clf.predict(x_test)"
      ],
      "execution_count": null,
      "outputs": []
    },
    {
      "cell_type": "code",
      "metadata": {
        "id": "tlWQ5Vj7Orkd",
        "colab": {
          "base_uri": "https://localhost:8080/"
        },
        "outputId": "513130d3-46d3-4d5a-e0c7-0395d9e06b71"
      },
      "source": [
        "from sklearn.metrics import classification_report\n",
        "print(classification_report(y_test, y_pred))"
      ],
      "execution_count": null,
      "outputs": [
        {
          "output_type": "stream",
          "name": "stdout",
          "text": [
            "              precision    recall  f1-score   support\n",
            "\n",
            "           0       0.89      1.00      0.94      3009\n",
            "           1       0.73      0.05      0.09       376\n",
            "\n",
            "    accuracy                           0.89      3385\n",
            "   macro avg       0.81      0.52      0.52      3385\n",
            "weighted avg       0.88      0.89      0.85      3385\n",
            "\n"
          ]
        }
      ]
    },
    {
      "cell_type": "code",
      "metadata": {
        "id": "jkqTBNjaQWT2",
        "colab": {
          "base_uri": "https://localhost:8080/"
        },
        "outputId": "65ac725e-8085-4f8b-c762-e08054f54bae"
      },
      "source": [
        "from sklearn.metrics import accuracy_score\n",
        "accuracy_score(y_test, y_pred)"
      ],
      "execution_count": null,
      "outputs": [
        {
          "output_type": "execute_result",
          "data": {
            "text/plain": [
              "0.892466765140325"
            ]
          },
          "metadata": {},
          "execution_count": 22
        }
      ]
    },
    {
      "cell_type": "code",
      "metadata": {
        "id": "h4lDqSYPwTKQ"
      },
      "source": [],
      "execution_count": null,
      "outputs": []
    },
    {
      "cell_type": "markdown",
      "metadata": {
        "id": "kGGs8ddOweFP"
      },
      "source": [
        "#save model"
      ]
    },
    {
      "cell_type": "code",
      "metadata": {
        "id": "La6_WnZzwjak",
        "colab": {
          "base_uri": "https://localhost:8080/"
        },
        "outputId": "cdefdd18-d5bf-4bb3-c5a8-de245cb5537a"
      },
      "source": [
        "from joblib import dump, load\n",
        "dump(clf, 'SVM.joblib')"
      ],
      "execution_count": null,
      "outputs": [
        {
          "output_type": "execute_result",
          "data": {
            "text/plain": [
              "['SVM.joblib']"
            ]
          },
          "metadata": {},
          "execution_count": 23
        }
      ]
    },
    {
      "cell_type": "code",
      "metadata": {
        "id": "uSORMJq5w8gk",
        "colab": {
          "base_uri": "https://localhost:8080/"
        },
        "outputId": "a9542407-5666-4fbe-92b1-3d67658dbbfb"
      },
      "source": [
        "!cp 'final_SVM.joblib' '/content/drive/MyDrive/final_SVM.joblib'"
      ],
      "execution_count": null,
      "outputs": [
        {
          "output_type": "stream",
          "name": "stdout",
          "text": [
            "cp: cannot stat 'final_SVM.joblib': No such file or directory\n"
          ]
        }
      ]
    },
    {
      "cell_type": "code",
      "metadata": {
        "id": "eo1hspbhwxs3"
      },
      "source": [
        "\n"
      ],
      "execution_count": null,
      "outputs": []
    },
    {
      "cell_type": "code",
      "metadata": {
        "id": "fDTa1FoLQ3_x"
      },
      "source": [
        "#Normalised False give no of correctly clasify sample\n",
        "#Normalised True give percentage accuracy\n",
        "count = accuracy_score(y_test, y_pred, normalize=False)"
      ],
      "execution_count": null,
      "outputs": []
    },
    {
      "cell_type": "code",
      "metadata": {
        "id": "s19ZgXhcShWY",
        "colab": {
          "base_uri": "https://localhost:8080/"
        },
        "outputId": "3074cbdc-e26b-44aa-bebd-d532e8f952dc"
      },
      "source": [
        "print('No of correctly classify sample ',count, ' out of ',len(y_test))\n"
      ],
      "execution_count": null,
      "outputs": [
        {
          "output_type": "stream",
          "name": "stdout",
          "text": [
            "No of correctly classify sample  3021  out of  3385\n"
          ]
        }
      ]
    },
    {
      "cell_type": "code",
      "metadata": {
        "id": "6wENO-bHTTDK",
        "colab": {
          "base_uri": "https://localhost:8080/",
          "height": 338
        },
        "outputId": "a5c8d88f-c4df-477c-bd1f-9ab04bb28867"
      },
      "source": [
        "from sklearn.metrics import plot_confusion_matrix\n",
        "plot_confusion_matrix(clf, x_test, y_test)\n",
        "plt.show()"
      ],
      "execution_count": null,
      "outputs": [
        {
          "output_type": "stream",
          "name": "stderr",
          "text": [
            "/usr/local/lib/python3.7/dist-packages/sklearn/utils/deprecation.py:87: FutureWarning: Function plot_confusion_matrix is deprecated; Function `plot_confusion_matrix` is deprecated in 1.0 and will be removed in 1.2. Use one of the class methods: ConfusionMatrixDisplay.from_predictions or ConfusionMatrixDisplay.from_estimator.\n",
            "  warnings.warn(msg, category=FutureWarning)\n"
          ]
        },
        {
          "output_type": "display_data",
          "data": {
            "text/plain": [
              "<Figure size 432x288 with 2 Axes>"
            ],
            "image/png": "[encoded data removed]"
          },
          "metadata": {
            "needs_background": "light"
          }
        }
      ]
    },
    {
      "cell_type": "code",
      "metadata": {
        "id": "QUa2u_-uZYLG",
        "colab": {
          "base_uri": "https://localhost:8080/",
          "height": 767
        },
        "outputId": "5934cc20-d727-4a60-b558-511161b8b15f"
      },
      "source": [
        "# Plot non-normalized confusion matrix\n",
        "titles_options = [(\"Confusion matrix SVM@80\", None),\n",
        "                  (\"Normalized confusion matrix\", 'true')]\n",
        "for title, normalize in titles_options:\n",
        "    disp = plot_confusion_matrix(clf, x_test, y_test,\n",
        "                                 display_labels=['Normal','Theft'],\n",
        "                                 cmap=plt.cm.Blues,\n",
        "                                 normalize=normalize)\n",
        "    disp.ax_.set_title(title)\n",
        "\n",
        "    print(title)\n",
        "    print(disp.confusion_matrix)\n",
        "\n",
        "plt.show()"
      ],
      "execution_count": null,
      "outputs": [
        {
          "output_type": "stream",
          "name": "stderr",
          "text": [
            "/usr/local/lib/python3.7/dist-packages/sklearn/utils/deprecation.py:87: FutureWarning: Function plot_confusion_matrix is deprecated; Function `plot_confusion_matrix` is deprecated in 1.0 and will be removed in 1.2. Use one of the class methods: ConfusionMatrixDisplay.from_predictions or ConfusionMatrixDisplay.from_estimator.\n",
            "  warnings.warn(msg, category=FutureWarning)\n"
          ]
        },
        {
          "output_type": "stream",
          "name": "stdout",
          "text": [
            "Confusion matrix SVM@80\n",
            "[[3002    7]\n",
            " [ 357   19]]\n"
          ]
        },
        {
          "output_type": "stream",
          "name": "stderr",
          "text": [
            "/usr/local/lib/python3.7/dist-packages/sklearn/utils/deprecation.py:87: FutureWarning: Function plot_confusion_matrix is deprecated; Function `plot_confusion_matrix` is deprecated in 1.0 and will be removed in 1.2. Use one of the class methods: ConfusionMatrixDisplay.from_predictions or ConfusionMatrixDisplay.from_estimator.\n",
            "  warnings.warn(msg, category=FutureWarning)\n"
          ]
        },
        {
          "output_type": "stream",
          "name": "stdout",
          "text": [
            "Normalized confusion matrix\n",
            "[[0.99767365 0.00232635]\n",
            " [0.94946809 0.05053191]]\n"
          ]
        },
        {
          "output_type": "display_data",
          "data": {
            "text/plain": [
              "<Figure size 432x288 with 2 Axes>"
            ],
            "image/png": "[encoded data removed]"
          },
          "metadata": {
            "needs_background": "light"
          }
        },
        {
          "output_type": "display_data",
          "data": {
            "text/plain": [
              "<Figure size 432x288 with 2 Axes>"
            ],
            "image/png": "[encoded data removed]"
          },
          "metadata": {
            "needs_background": "light"
          }
        }
      ]
    },
    {
      "cell_type": "code",
      "metadata": {
        "id": "RGedc9v8klE9"
      },
      "source": [
        "clf = svm.SVC(C = 100, degree = 10, kernel = 'rbf',probability=True)\n",
        "clf.fit(x_train, y_train)"
      ],
      "execution_count": null,
      "outputs": []
    },
    {
      "cell_type": "code",
      "metadata": {
        "id": "r_jAms-Yj3dR"
      },
      "source": [
        "probs = clf.predict_proba(x_test)"
      ],
      "execution_count": null,
      "outputs": []
    },
    {
      "cell_type": "code",
      "metadata": {
        "id": "BYMq8YaMsIaX"
      },
      "source": [
        "y_pred = clf.predict(x_test)"
      ],
      "execution_count": null,
      "outputs": []
    },
    {
      "cell_type": "code",
      "metadata": {
        "id": "iwFAq5zesR7C"
      },
      "source": [
        "y_pred"
      ],
      "execution_count": null,
      "outputs": []
    },
    {
      "cell_type": "code",
      "metadata": {
        "id": "NzXQdcZFh0qa"
      },
      "source": [
        "import sklearn.metrics as metrics\n",
        "# calculate the fpr and tpr for all thresholds of the classification\n",
        "probs = clf.predict_proba(x_test)\n",
        "preds = probs[:,1]\n",
        "fpr, tpr, threshold = metrics.roc_curve(y_test, preds)\n",
        "roc_auc = metrics.auc(fpr, tpr)\n",
        "\n",
        "# method I: plt\n",
        "import matplotlib.pyplot as plt\n",
        "plt.title('Receiver Operating Characteristic (ROC) SVM@80')\n",
        "plt.plot(fpr, tpr, 'b', label = 'AUC = %0.4f' % roc_auc)\n",
        "plt.legend(loc = 'lower right')\n",
        "plt.plot([0, 1], [0, 1],'r--')\n",
        "plt.xlim([0, 1])\n",
        "plt.ylim([0, 1])\n",
        "plt.ylabel('True Positive Rate')\n",
        "plt.xlabel('False Positive Rate')\n",
        "plt.show()"
      ],
      "execution_count": null,
      "outputs": []
    },
    {
      "cell_type": "code",
      "metadata": {
        "id": "OSageSmSr3AR"
      },
      "source": [
        "import matplotlib.pyplot as plt\n",
        "import numpy as np\n",
        "\n",
        "x = # false_positive_rate\n",
        "y = # true_positive_rate\n",
        "\n",
        "# This is the ROC curve\n",
        "plt.plot(x,y)\n",
        "plt.show()\n",
        "\n",
        "# This is the AUC\n",
        "auc = np.trapz(y,x)"
      ],
      "execution_count": null,
      "outputs": []
    },
    {
      "cell_type": "code",
      "metadata": {
        "id": "_30FHVfAhFH4"
      },
      "source": [],
      "execution_count": null,
      "outputs": []
    },
    {
      "cell_type": "markdown",
      "metadata": {
        "id": "99pK9h_qA1RO"
      },
      "source": [
        "#Testing"
      ]
    },
    {
      "cell_type": "code",
      "metadata": {
        "id": "O4-M4l9uhFih"
      },
      "source": [
        "print(x_test.shape)\n",
        "print(x_train.shape)\n",
        "print(y_test.shape)\n",
        "print(y_train.shape)\n",
        "\n"
      ],
      "execution_count": null,
      "outputs": []
    },
    {
      "cell_type": "code",
      "metadata": {
        "id": "OghjNad7-73f"
      },
      "source": [
        "y_pred = clf.predict(x_test)\n",
        "y_pred.shape"
      ],
      "execution_count": null,
      "outputs": []
    },
    {
      "cell_type": "code",
      "metadata": {
        "id": "S9oGt1SHA8A1"
      },
      "source": [
        "import random"
      ],
      "execution_count": null,
      "outputs": []
    },
    {
      "cell_type": "code",
      "metadata": {
        "id": "mka_thUTAcrV"
      },
      "source": [
        "y_test_m = []\n",
        "x_text_m = []\n",
        "for i in range(1,3001):\n",
        "  h = random.randint(1,20000)\n",
        "  y_test_m.append(y_train[h])\n",
        "  x_text_m.append(x_train[h])\n",
        "print(len(y_test_m))\n",
        "print(len(x_text_m))\n",
        "\n",
        "\n"
      ],
      "execution_count": null,
      "outputs": []
    },
    {
      "cell_type": "code",
      "metadata": {
        "id": "bzQEf-cMBvum"
      },
      "source": [
        "for i in range(1,(6769-2999)):\n",
        "  h = random.randint(1,6769)\n",
        "  y_test_m.append(y_test[h])\n",
        "  x_text_m.append(x_test[h])\n",
        "print(len(y_test_m))\n",
        "print(len(x_text_m))"
      ],
      "execution_count": null,
      "outputs": []
    },
    {
      "cell_type": "code",
      "metadata": {
        "id": "L3yZG5HGCbNX"
      },
      "source": [
        "y_pred_m = clf.predict(x_text_m)\n",
        "y_pred_m.shape"
      ],
      "execution_count": null,
      "outputs": []
    },
    {
      "cell_type": "code",
      "metadata": {
        "id": "Cq9QxM4bCktI"
      },
      "source": [
        "from sklearn.metrics import classification_report\n",
        "print(classification_report(y_test_m, y_pred_m))"
      ],
      "execution_count": null,
      "outputs": []
    },
    {
      "cell_type": "code",
      "metadata": {
        "id": "v3ShrVzXDAci"
      },
      "source": [
        "from sklearn.metrics import precision_score\n",
        "print(precision_score(y_test_m, y_pred_m))\n"
      ],
      "execution_count": null,
      "outputs": []
    },
    {
      "cell_type": "code",
      "metadata": {
        "id": "sG2qCi_FDWeG"
      },
      "source": [
        "import random\n",
        "y_test_m = []\n",
        "x_text_m = []\n",
        "for i in range(1,3001):\n",
        "  h = random.randint(1,20000)\n",
        "  y_test_m.append(y_train[h])\n",
        "  x_text_m.append(x_train[h])\n",
        "print(len(y_test_m))\n",
        "print(len(x_text_m))\n",
        "for i in range(1,(6769-2999)):\n",
        "  h = random.randint(1,6769)\n",
        "  y_test_m.append(y_test[h])\n",
        "  x_text_m.append(x_test[h])\n",
        "print(len(y_test_m))\n",
        "print(len(x_text_m))\n",
        "y_pred_m = clf.predict(x_text_m)\n",
        "y_pred_m.shape\n",
        "from sklearn.metrics import classification_report\n",
        "print(classification_report(y_test_m, y_pred_m))\n",
        "from sklearn.metrics import precision_score\n",
        "print(precision_score(y_test_m, y_pred_m))"
      ],
      "execution_count": null,
      "outputs": []
    }
  ]
}