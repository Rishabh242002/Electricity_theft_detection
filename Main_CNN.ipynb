{
  "nbformat": 4,
  "nbformat_minor": 0,
  "metadata": {
    "colab": {
      "provenance": [],
      "collapsed_sections": [
        "ZgOdt0HVLabj",
        "OFNuBfr4PJzN",
        "qaSBb0-aT76L"
      ],
      "include_colab_link": true
    },
    "kernelspec": {
      "name": "python3",
      "display_name": "Python 3"
    },
    "accelerator": "GPU"
  },
  "cells": [
    {
      "cell_type": "markdown",
      "metadata": {
        "id": "view-in-github",
        "colab_type": "text"
      },
      "source": [
        "<a href=\"https://colab.research.google.com/github/Rishabh242002/Electricity_theft_detection/blob/main/Main_CNN.ipynb\" target=\"_parent\"><img src=\"https://colab.research.google.com/assets/colab-badge.svg\" alt=\"Open In Colab\"/></a>"
      ]
    },
    {
      "cell_type": "code",
      "metadata": {
        "id": "bCB05rsV_dd-",
        "colab": {
          "base_uri": "https://localhost:8080/"
        },
        "outputId": "47e91309-c9c7-4a28-8b1c-42124c41e010"
      },
      "source": [
        "from google.colab import drive\n",
        "drive.mount('/content/drive')"
      ],
      "execution_count": null,
      "outputs": [
        {
          "output_type": "stream",
          "name": "stdout",
          "text": [
            "Drive already mounted at /content/drive; to attempt to forcibly remount, call drive.mount(\"/content/drive\", force_remount=True).\n"
          ]
        }
      ]
    },
    {
      "cell_type": "code",
      "metadata": {
        "id": "JgIS60QJ_evZ"
      },
      "source": [
        "!ln -s /content/drive/My\\ Drive/ /mydrive"
      ],
      "execution_count": null,
      "outputs": []
    },
    {
      "cell_type": "code",
      "metadata": {
        "id": "zd2lRMHKBPYd",
        "colab": {
          "base_uri": "https://localhost:8080/"
        },
        "outputId": "2413c178-0e31-44c2-d93d-53529e06f01b"
      },
      "source": [
        "!ls"
      ],
      "execution_count": null,
      "outputs": [
        {
          "output_type": "stream",
          "name": "stdout",
          "text": [
            "drive  sample_data\n"
          ]
        }
      ]
    },
    {
      "cell_type": "code",
      "metadata": {
        "id": "g3kaa0VrAm4p"
      },
      "source": [
        "import numpy as np\n",
        "import pandas as pd\n",
        "import matplotlib.pyplot as plt\n",
        "%matplotlib inline"
      ],
      "execution_count": null,
      "outputs": []
    },
    {
      "cell_type": "code",
      "metadata": {
        "id": "yVjAOI5MAWeD"
      },
      "source": [
        "df = pd.read_csv('/content/drive/MyDrive/ManojSirIntern/Normalised_data_final.csv')"
      ],
      "execution_count": null,
      "outputs": []
    },
    {
      "cell_type": "code",
      "metadata": {
        "id": "QgxY2nF-ufST",
        "colab": {
          "base_uri": "https://localhost:8080/",
          "height": 505
        },
        "outputId": "df929c45-4cc3-4f68-a538-a54125e8172d"
      },
      "source": [
        "df"
      ],
      "execution_count": null,
      "outputs": [
        {
          "output_type": "execute_result",
          "data": {
            "text/plain": [
              "       Unnamed: 0         0         1         2         3         4         5  \\\n",
              "0               0  0.000000  0.000000  0.000000  0.000000  0.000000  0.000000   \n",
              "1               1  0.000000  0.000000  0.000000  0.000000  0.000000  0.000000   \n",
              "2               2  0.000000  0.000000  0.000000  0.000000  0.000000  0.000000   \n",
              "3               3  0.000000  0.000000  0.000000  0.000000  0.000000  0.000000   \n",
              "4               4  0.144214  0.170073  0.189467  0.227759  0.177035  0.211348   \n",
              "...           ...       ...       ...       ...       ...       ...       ...   \n",
              "33836       33836  0.000000  0.000000  0.000000  0.000000  0.000000  0.000000   \n",
              "33837       33837  0.106101  0.104948  0.130319  0.103794  0.071503  0.097451   \n",
              "33838       33838  0.000000  0.000000  0.000000  0.000000  0.000000  0.000000   \n",
              "33839       33839  0.218579  0.683060  0.218579  0.273224  0.000000  0.000000   \n",
              "33840       33840  0.000000  0.000000  0.000000  0.000000  0.000000  0.000000   \n",
              "\n",
              "              6         7         8  ...      1025      1026      1027  \\\n",
              "0      0.000000  0.000000  0.000000  ...  0.366702  0.622952  0.279813   \n",
              "1      0.000000  0.000000  0.000000  ...  0.000000  0.000000  0.000000   \n",
              "2      0.000000  0.000000  0.000000  ...  0.000000  0.000000  0.000000   \n",
              "3      0.000000  0.000000  0.000000  ...  0.357296  0.421316  0.664878   \n",
              "4      0.191954  0.175543  0.169576  ...  0.515689  0.761848  0.671838   \n",
              "...         ...       ...       ...  ...       ...       ...       ...   \n",
              "33836  0.000000  0.000000  0.000000  ...  0.749246  0.701895  0.835007   \n",
              "33837  0.112444  0.069196  0.074386  ...  0.278515  0.374813  0.398743   \n",
              "33838  0.000000  0.000000  0.000000  ...  0.443511  0.498755  0.535325   \n",
              "33839  0.000000  0.000000  0.136612  ...  1.000000  0.437158  0.437158   \n",
              "33840  0.000000  0.000000  0.000000  ...  0.000000  0.000000  0.000000   \n",
              "\n",
              "           1028      1029      1030      1031      1032      1033  OutPut  \n",
              "0      1.000000  0.664556  0.974559  0.690328  0.656824  0.549317       1  \n",
              "1      0.000000  0.000000  0.000000  0.000000  0.000000  0.000000       1  \n",
              "2      0.000000  0.000000  0.000000  0.000000  0.000000  0.000000       1  \n",
              "3      0.958512  0.664163  0.521817  0.458512  0.692775  0.569385       1  \n",
              "4      0.608185  0.730021  0.813069  0.902084  0.915510  0.860809       1  \n",
              "...         ...       ...       ...       ...       ...       ...     ...  \n",
              "33836  0.843948  0.948568  0.791517  0.747498  0.740507  1.000000       0  \n",
              "33837  0.422673  0.336178  0.403644  0.315996  0.297544  0.470534       0  \n",
              "33838  0.754746  0.641923  0.693277  0.645814  0.576564  0.606909       0  \n",
              "33839  0.464481  0.519126  0.792350  0.628415  0.546448  0.710383       0  \n",
              "33840  0.000000  0.000000  0.000000  0.000000  0.000000  0.000000       0  \n",
              "\n",
              "[33841 rows x 1036 columns]"
            ],
            "text/html": [
              "\n",
              "  <div id=\"df-8e5005ce-ab73-4725-bfa1-250e18c06d70\">\n",
              "    <div class=\"colab-df-container\">\n",
              "      <div>\n",
              "<style scoped>\n",
              "    .dataframe tbody tr th:only-of-type {\n",
              "        vertical-align: middle;\n",
              "    }\n",
              "\n",
              "    .dataframe tbody tr th {\n",
              "        vertical-align: top;\n",
              "    }\n",
              "\n",
              "    .dataframe thead th {\n",
              "        text-align: right;\n",
              "    }\n",
              "</style>\n",
              "<table border=\"1\" class=\"dataframe\">\n",
              "  <thead>\n",
              "    <tr style=\"text-align: right;\">\n",
              "      <th></th>\n",
              "      <th>Unnamed: 0</th>\n",
              "      <th>0</th>\n",
              "      <th>1</th>\n",
              "      <th>2</th>\n",
              "      <th>3</th>\n",
              "      <th>4</th>\n",
              "      <th>5</th>\n",
              "      <th>6</th>\n",
              "      <th>7</th>\n",
              "      <th>8</th>\n",
              "      <th>...</th>\n",
              "      <th>1025</th>\n",
              "      <th>1026</th>\n",
              "      <th>1027</th>\n",
              "      <th>1028</th>\n",
              "      <th>1029</th>\n",
              "      <th>1030</th>\n",
              "      <th>1031</th>\n",
              "      <th>1032</th>\n",
              "      <th>1033</th>\n",
              "      <th>OutPut</th>\n",
              "    </tr>\n",
              "  </thead>\n",
              "  <tbody>\n",
              "    <tr>\n",
              "      <th>0</th>\n",
              "      <td>0</td>\n",
              "      <td>0.000000</td>\n",
              "      <td>0.000000</td>\n",
              "      <td>0.000000</td>\n",
              "      <td>0.000000</td>\n",
              "      <td>0.000000</td>\n",
              "      <td>0.000000</td>\n",
              "      <td>0.000000</td>\n",
              "      <td>0.000000</td>\n",
              "      <td>0.000000</td>\n",
              "      <td>...</td>\n",
              "      <td>0.366702</td>\n",
              "      <td>0.622952</td>\n",
              "      <td>0.279813</td>\n",
              "      <td>1.000000</td>\n",
              "      <td>0.664556</td>\n",
              "      <td>0.974559</td>\n",
              "      <td>0.690328</td>\n",
              "      <td>0.656824</td>\n",
              "      <td>0.549317</td>\n",
              "      <td>1</td>\n",
              "    </tr>\n",
              "    <tr>\n",
              "      <th>1</th>\n",
              "      <td>1</td>\n",
              "      <td>0.000000</td>\n",
              "      <td>0.000000</td>\n",
              "      <td>0.000000</td>\n",
              "      <td>0.000000</td>\n",
              "      <td>0.000000</td>\n",
              "      <td>0.000000</td>\n",
              "      <td>0.000000</td>\n",
              "      <td>0.000000</td>\n",
              "      <td>0.000000</td>\n",
              "      <td>...</td>\n",
              "      <td>0.000000</td>\n",
              "      <td>0.000000</td>\n",
              "      <td>0.000000</td>\n",
              "      <td>0.000000</td>\n",
              "      <td>0.000000</td>\n",
              "      <td>0.000000</td>\n",
              "      <td>0.000000</td>\n",
              "      <td>0.000000</td>\n",
              "      <td>0.000000</td>\n",
              "      <td>1</td>\n",
              "    </tr>\n",
              "    <tr>\n",
              "      <th>2</th>\n",
              "      <td>2</td>\n",
              "      <td>0.000000</td>\n",
              "      <td>0.000000</td>\n",
              "      <td>0.000000</td>\n",
              "      <td>0.000000</td>\n",
              "      <td>0.000000</td>\n",
              "      <td>0.000000</td>\n",
              "      <td>0.000000</td>\n",
              "      <td>0.000000</td>\n",
              "      <td>0.000000</td>\n",
              "      <td>...</td>\n",
              "      <td>0.000000</td>\n",
              "      <td>0.000000</td>\n",
              "      <td>0.000000</td>\n",
              "      <td>0.000000</td>\n",
              "      <td>0.000000</td>\n",
              "      <td>0.000000</td>\n",
              "      <td>0.000000</td>\n",
              "      <td>0.000000</td>\n",
              "      <td>0.000000</td>\n",
              "      <td>1</td>\n",
              "    </tr>\n",
              "    <tr>\n",
              "      <th>3</th>\n",
              "      <td>3</td>\n",
              "      <td>0.000000</td>\n",
              "      <td>0.000000</td>\n",
              "      <td>0.000000</td>\n",
              "      <td>0.000000</td>\n",
              "      <td>0.000000</td>\n",
              "      <td>0.000000</td>\n",
              "      <td>0.000000</td>\n",
              "      <td>0.000000</td>\n",
              "      <td>0.000000</td>\n",
              "      <td>...</td>\n",
              "      <td>0.357296</td>\n",
              "      <td>0.421316</td>\n",
              "      <td>0.664878</td>\n",
              "      <td>0.958512</td>\n",
              "      <td>0.664163</td>\n",
              "      <td>0.521817</td>\n",
              "      <td>0.458512</td>\n",
              "      <td>0.692775</td>\n",
              "      <td>0.569385</td>\n",
              "      <td>1</td>\n",
              "    </tr>\n",
              "    <tr>\n",
              "      <th>4</th>\n",
              "      <td>4</td>\n",
              "      <td>0.144214</td>\n",
              "      <td>0.170073</td>\n",
              "      <td>0.189467</td>\n",
              "      <td>0.227759</td>\n",
              "      <td>0.177035</td>\n",
              "      <td>0.211348</td>\n",
              "      <td>0.191954</td>\n",
              "      <td>0.175543</td>\n",
              "      <td>0.169576</td>\n",
              "      <td>...</td>\n",
              "      <td>0.515689</td>\n",
              "      <td>0.761848</td>\n",
              "      <td>0.671838</td>\n",
              "      <td>0.608185</td>\n",
              "      <td>0.730021</td>\n",
              "      <td>0.813069</td>\n",
              "      <td>0.902084</td>\n",
              "      <td>0.915510</td>\n",
              "      <td>0.860809</td>\n",
              "      <td>1</td>\n",
              "    </tr>\n",
              "    <tr>\n",
              "      <th>...</th>\n",
              "      <td>...</td>\n",
              "      <td>...</td>\n",
              "      <td>...</td>\n",
              "      <td>...</td>\n",
              "      <td>...</td>\n",
              "      <td>...</td>\n",
              "      <td>...</td>\n",
              "      <td>...</td>\n",
              "      <td>...</td>\n",
              "      <td>...</td>\n",
              "      <td>...</td>\n",
              "      <td>...</td>\n",
              "      <td>...</td>\n",
              "      <td>...</td>\n",
              "      <td>...</td>\n",
              "      <td>...</td>\n",
              "      <td>...</td>\n",
              "      <td>...</td>\n",
              "      <td>...</td>\n",
              "      <td>...</td>\n",
              "      <td>...</td>\n",
              "    </tr>\n",
              "    <tr>\n",
              "      <th>33836</th>\n",
              "      <td>33836</td>\n",
              "      <td>0.000000</td>\n",
              "      <td>0.000000</td>\n",
              "      <td>0.000000</td>\n",
              "      <td>0.000000</td>\n",
              "      <td>0.000000</td>\n",
              "      <td>0.000000</td>\n",
              "      <td>0.000000</td>\n",
              "      <td>0.000000</td>\n",
              "      <td>0.000000</td>\n",
              "      <td>...</td>\n",
              "      <td>0.749246</td>\n",
              "      <td>0.701895</td>\n",
              "      <td>0.835007</td>\n",
              "      <td>0.843948</td>\n",
              "      <td>0.948568</td>\n",
              "      <td>0.791517</td>\n",
              "      <td>0.747498</td>\n",
              "      <td>0.740507</td>\n",
              "      <td>1.000000</td>\n",
              "      <td>0</td>\n",
              "    </tr>\n",
              "    <tr>\n",
              "      <th>33837</th>\n",
              "      <td>33837</td>\n",
              "      <td>0.106101</td>\n",
              "      <td>0.104948</td>\n",
              "      <td>0.130319</td>\n",
              "      <td>0.103794</td>\n",
              "      <td>0.071503</td>\n",
              "      <td>0.097451</td>\n",
              "      <td>0.112444</td>\n",
              "      <td>0.069196</td>\n",
              "      <td>0.074386</td>\n",
              "      <td>...</td>\n",
              "      <td>0.278515</td>\n",
              "      <td>0.374813</td>\n",
              "      <td>0.398743</td>\n",
              "      <td>0.422673</td>\n",
              "      <td>0.336178</td>\n",
              "      <td>0.403644</td>\n",
              "      <td>0.315996</td>\n",
              "      <td>0.297544</td>\n",
              "      <td>0.470534</td>\n",
              "      <td>0</td>\n",
              "    </tr>\n",
              "    <tr>\n",
              "      <th>33838</th>\n",
              "      <td>33838</td>\n",
              "      <td>0.000000</td>\n",
              "      <td>0.000000</td>\n",
              "      <td>0.000000</td>\n",
              "      <td>0.000000</td>\n",
              "      <td>0.000000</td>\n",
              "      <td>0.000000</td>\n",
              "      <td>0.000000</td>\n",
              "      <td>0.000000</td>\n",
              "      <td>0.000000</td>\n",
              "      <td>...</td>\n",
              "      <td>0.443511</td>\n",
              "      <td>0.498755</td>\n",
              "      <td>0.535325</td>\n",
              "      <td>0.754746</td>\n",
              "      <td>0.641923</td>\n",
              "      <td>0.693277</td>\n",
              "      <td>0.645814</td>\n",
              "      <td>0.576564</td>\n",
              "      <td>0.606909</td>\n",
              "      <td>0</td>\n",
              "    </tr>\n",
              "    <tr>\n",
              "      <th>33839</th>\n",
              "      <td>33839</td>\n",
              "      <td>0.218579</td>\n",
              "      <td>0.683060</td>\n",
              "      <td>0.218579</td>\n",
              "      <td>0.273224</td>\n",
              "      <td>0.000000</td>\n",
              "      <td>0.000000</td>\n",
              "      <td>0.000000</td>\n",
              "      <td>0.000000</td>\n",
              "      <td>0.136612</td>\n",
              "      <td>...</td>\n",
              "      <td>1.000000</td>\n",
              "      <td>0.437158</td>\n",
              "      <td>0.437158</td>\n",
              "      <td>0.464481</td>\n",
              "      <td>0.519126</td>\n",
              "      <td>0.792350</td>\n",
              "      <td>0.628415</td>\n",
              "      <td>0.546448</td>\n",
              "      <td>0.710383</td>\n",
              "      <td>0</td>\n",
              "    </tr>\n",
              "    <tr>\n",
              "      <th>33840</th>\n",
              "      <td>33840</td>\n",
              "      <td>0.000000</td>\n",
              "      <td>0.000000</td>\n",
              "      <td>0.000000</td>\n",
              "      <td>0.000000</td>\n",
              "      <td>0.000000</td>\n",
              "      <td>0.000000</td>\n",
              "      <td>0.000000</td>\n",
              "      <td>0.000000</td>\n",
              "      <td>0.000000</td>\n",
              "      <td>...</td>\n",
              "      <td>0.000000</td>\n",
              "      <td>0.000000</td>\n",
              "      <td>0.000000</td>\n",
              "      <td>0.000000</td>\n",
              "      <td>0.000000</td>\n",
              "      <td>0.000000</td>\n",
              "      <td>0.000000</td>\n",
              "      <td>0.000000</td>\n",
              "      <td>0.000000</td>\n",
              "      <td>0</td>\n",
              "    </tr>\n",
              "  </tbody>\n",
              "</table>\n",
              "<p>33841 rows × 1036 columns</p>\n",
              "</div>\n",
              "      <button class=\"colab-df-convert\" onclick=\"convertToInteractive('df-8e5005ce-ab73-4725-bfa1-250e18c06d70')\"\n",
              "              title=\"Convert this dataframe to an interactive table.\"\n",
              "              style=\"display:none;\">\n",
              "        \n",
              "  <svg xmlns=\"http://www.w3.org/2000/svg\" height=\"24px\"viewBox=\"0 0 24 24\"\n",
              "       width=\"24px\">\n",
              "    <path d=\"M0 0h24v24H0V0z\" fill=\"none\"/>\n",
              "    <path d=\"M18.56 5.44l.94 2.06.94-2.06 2.06-.94-2.06-.94-.94-2.06-.94 2.06-2.06.94zm-11 1L8.5 8.5l.94-2.06 2.06-.94-2.06-.94L8.5 2.5l-.94 2.06-2.06.94zm10 10l.94 2.06.94-2.06 2.06-.94-2.06-.94-.94-2.06-.94 2.06-2.06.94z\"/><path d=\"M17.41 7.96l-1.37-1.37c-.4-.4-.92-.59-1.43-.59-.52 0-1.04.2-1.43.59L10.3 9.45l-7.72 7.72c-.78.78-.78 2.05 0 2.83L4 21.41c.39.39.9.59 1.41.59.51 0 1.02-.2 1.41-.59l7.78-7.78 2.81-2.81c.8-.78.8-2.07 0-2.86zM5.41 20L4 18.59l7.72-7.72 1.47 1.35L5.41 20z\"/>\n",
              "  </svg>\n",
              "      </button>\n",
              "      \n",
              "  <style>\n",
              "    .colab-df-container {\n",
              "      display:flex;\n",
              "      flex-wrap:wrap;\n",
              "      gap: 12px;\n",
              "    }\n",
              "\n",
              "    .colab-df-convert {\n",
              "      background-color: #E8F0FE;\n",
              "      border: none;\n",
              "      border-radius: 50%;\n",
              "      cursor: pointer;\n",
              "      display: none;\n",
              "      fill: #1967D2;\n",
              "      height: 32px;\n",
              "      padding: 0 0 0 0;\n",
              "      width: 32px;\n",
              "    }\n",
              "\n",
              "    .colab-df-convert:hover {\n",
              "      background-color: #E2EBFA;\n",
              "      box-shadow: 0px 1px 2px rgba(60, 64, 67, 0.3), 0px 1px 3px 1px rgba(60, 64, 67, 0.15);\n",
              "      fill: #174EA6;\n",
              "    }\n",
              "\n",
              "    [theme=dark] .colab-df-convert {\n",
              "      background-color: #3B4455;\n",
              "      fill: #D2E3FC;\n",
              "    }\n",
              "\n",
              "    [theme=dark] .colab-df-convert:hover {\n",
              "      background-color: #434B5C;\n",
              "      box-shadow: 0px 1px 3px 1px rgba(0, 0, 0, 0.15);\n",
              "      filter: drop-shadow(0px 1px 2px rgba(0, 0, 0, 0.3));\n",
              "      fill: #FFFFFF;\n",
              "    }\n",
              "  </style>\n",
              "\n",
              "      <script>\n",
              "        const buttonEl =\n",
              "          document.querySelector('#df-8e5005ce-ab73-4725-bfa1-250e18c06d70 button.colab-df-convert');\n",
              "        buttonEl.style.display =\n",
              "          google.colab.kernel.accessAllowed ? 'block' : 'none';\n",
              "\n",
              "        async function convertToInteractive(key) {\n",
              "          const element = document.querySelector('#df-8e5005ce-ab73-4725-bfa1-250e18c06d70');\n",
              "          const dataTable =\n",
              "            await google.colab.kernel.invokeFunction('convertToInteractive',\n",
              "                                                     [key], {});\n",
              "          if (!dataTable) return;\n",
              "\n",
              "          const docLinkHtml = 'Like what you see? Visit the ' +\n",
              "            '<a target=\"_blank\" href=https://colab.research.google.com/notebooks/data_table.ipynb>data table notebook</a>'\n",
              "            + ' to learn more about interactive tables.';\n",
              "          element.innerHTML = '';\n",
              "          dataTable['output_type'] = 'display_data';\n",
              "          await google.colab.output.renderOutput(dataTable, element);\n",
              "          const docLink = document.createElement('div');\n",
              "          docLink.innerHTML = docLinkHtml;\n",
              "          element.appendChild(docLink);\n",
              "        }\n",
              "      </script>\n",
              "    </div>\n",
              "  </div>\n",
              "  "
            ]
          },
          "metadata": {},
          "execution_count": 60
        }
      ]
    },
    {
      "cell_type": "code",
      "metadata": {
        "id": "sEVEC2guLZ3n",
        "colab": {
          "base_uri": "https://localhost:8080/"
        },
        "outputId": "b4ef76b2-8d1e-466f-ca95-f86ffdec675e"
      },
      "source": [
        "y = df['OutPut']\n",
        "count =0\n",
        "for i in y:\n",
        "  if(i==1):\n",
        "    count = count+1\n",
        "print(\"No of 1:\",count)\n",
        "print(\"Total No of Customers:\",len(y))\n"
      ],
      "execution_count": null,
      "outputs": [
        {
          "output_type": "stream",
          "name": "stdout",
          "text": [
            "No of 1: 3615\n",
            "Total No of Customers: 33841\n"
          ]
        }
      ]
    },
    {
      "cell_type": "markdown",
      "metadata": {
        "id": "BI8xQHTOLaTo"
      },
      "source": []
    },
    {
      "cell_type": "markdown",
      "metadata": {
        "id": "ZgOdt0HVLabj"
      },
      "source": [
        "##Data For System"
      ]
    },
    {
      "cell_type": "code",
      "metadata": {
        "colab": {
          "base_uri": "https://localhost:8080/"
        },
        "id": "VZy6DtghVxFE",
        "outputId": "d102c7b9-f8d3-4403-fdee-e7941ae29923"
      },
      "source": [
        "data = df[100:110]\n",
        "data.drop(['Unnamed: 0'],axis =1,inplace=True)\n",
        "print(data)"
      ],
      "execution_count": null,
      "outputs": [
        {
          "output_type": "stream",
          "text": [
            "            0         1         2  ...      1032      1033  OutPut\n",
            "100  0.000000  0.000000  0.000000  ...  0.307979  0.331311       1\n",
            "101  0.000000  0.000000  0.000000  ...  0.875966  0.541395       1\n",
            "102  0.397710  0.488255  0.511553  ...  0.145011  0.157089       1\n",
            "103  0.000000  0.000000  0.000000  ...  0.387799  0.367020       1\n",
            "104  0.000000  0.000000  0.000000  ...  0.439587  0.748659       1\n",
            "105  0.001045  0.772500  0.629077  ...  0.695433  0.694388       1\n",
            "106  0.251066  0.195141  0.185027  ...  0.681408  0.568567       1\n",
            "107  0.000000  0.000000  0.000000  ...  0.196741  0.197403       1\n",
            "108  0.000000  0.298383  0.194510  ...  0.299246  0.392473       1\n",
            "109  0.107260  0.080445  0.075011  ...  0.627023  0.482434       1\n",
            "\n",
            "[10 rows x 1035 columns]\n"
          ],
          "name": "stdout"
        },
        {
          "output_type": "stream",
          "text": [
            "/usr/local/lib/python3.7/dist-packages/pandas/core/frame.py:4174: SettingWithCopyWarning: \n",
            "A value is trying to be set on a copy of a slice from a DataFrame\n",
            "\n",
            "See the caveats in the documentation: https://pandas.pydata.org/pandas-docs/stable/user_guide/indexing.html#returning-a-view-versus-a-copy\n",
            "  errors=errors,\n"
          ],
          "name": "stderr"
        }
      ]
    },
    {
      "cell_type": "code",
      "metadata": {
        "id": "w71ieHJyPQxE"
      },
      "source": [
        "data.to_csv(\"data_final.csv\")"
      ],
      "execution_count": null,
      "outputs": []
    },
    {
      "cell_type": "code",
      "metadata": {
        "colab": {
          "base_uri": "https://localhost:8080/",
          "height": 376
        },
        "id": "81uum98ZK11l",
        "outputId": "78136f31-ed45-4f06-d43c-dc68d818d0e8"
      },
      "source": [
        "\n",
        "data.drop(['Unnamed: 0'],axis =1,inplace=True)\n",
        "YY = data['OutPut']\n",
        "data.drop(['OutPut'],axis=1,inplace=True)\n"
      ],
      "execution_count": null,
      "outputs": [
        {
          "output_type": "error",
          "ename": "KeyError",
          "evalue": "ignored",
          "traceback": [
            "\u001b[0;31m---------------------------------------------------------------------------\u001b[0m",
            "\u001b[0;31mKeyError\u001b[0m                                  Traceback (most recent call last)",
            "\u001b[0;32m<ipython-input-13-0d130cfbf404>\u001b[0m in \u001b[0;36m<module>\u001b[0;34m()\u001b[0m\n\u001b[1;32m      1\u001b[0m \u001b[0;34m\u001b[0m\u001b[0m\n\u001b[0;32m----> 2\u001b[0;31m \u001b[0mdata\u001b[0m\u001b[0;34m.\u001b[0m\u001b[0mdrop\u001b[0m\u001b[0;34m(\u001b[0m\u001b[0;34m[\u001b[0m\u001b[0;34m'Unnamed: 0'\u001b[0m\u001b[0;34m]\u001b[0m\u001b[0;34m,\u001b[0m\u001b[0maxis\u001b[0m \u001b[0;34m=\u001b[0m\u001b[0;36m1\u001b[0m\u001b[0;34m,\u001b[0m\u001b[0minplace\u001b[0m\u001b[0;34m=\u001b[0m\u001b[0;32mTrue\u001b[0m\u001b[0;34m)\u001b[0m\u001b[0;34m\u001b[0m\u001b[0;34m\u001b[0m\u001b[0m\n\u001b[0m\u001b[1;32m      3\u001b[0m \u001b[0mYY\u001b[0m \u001b[0;34m=\u001b[0m \u001b[0mdata\u001b[0m\u001b[0;34m[\u001b[0m\u001b[0;34m'OutPut'\u001b[0m\u001b[0;34m]\u001b[0m\u001b[0;34m\u001b[0m\u001b[0;34m\u001b[0m\u001b[0m\n\u001b[1;32m      4\u001b[0m \u001b[0mdata\u001b[0m\u001b[0;34m.\u001b[0m\u001b[0mdrop\u001b[0m\u001b[0;34m(\u001b[0m\u001b[0;34m[\u001b[0m\u001b[0;34m'OutPut'\u001b[0m\u001b[0;34m]\u001b[0m\u001b[0;34m,\u001b[0m\u001b[0maxis\u001b[0m\u001b[0;34m=\u001b[0m\u001b[0;36m1\u001b[0m\u001b[0;34m,\u001b[0m\u001b[0minplace\u001b[0m\u001b[0;34m=\u001b[0m\u001b[0;32mTrue\u001b[0m\u001b[0;34m)\u001b[0m\u001b[0;34m\u001b[0m\u001b[0;34m\u001b[0m\u001b[0m\n",
            "\u001b[0;32m/usr/local/lib/python3.7/dist-packages/pandas/core/frame.py\u001b[0m in \u001b[0;36mdrop\u001b[0;34m(self, labels, axis, index, columns, level, inplace, errors)\u001b[0m\n\u001b[1;32m   4172\u001b[0m             \u001b[0mlevel\u001b[0m\u001b[0;34m=\u001b[0m\u001b[0mlevel\u001b[0m\u001b[0;34m,\u001b[0m\u001b[0;34m\u001b[0m\u001b[0;34m\u001b[0m\u001b[0m\n\u001b[1;32m   4173\u001b[0m             \u001b[0minplace\u001b[0m\u001b[0;34m=\u001b[0m\u001b[0minplace\u001b[0m\u001b[0;34m,\u001b[0m\u001b[0;34m\u001b[0m\u001b[0;34m\u001b[0m\u001b[0m\n\u001b[0;32m-> 4174\u001b[0;31m             \u001b[0merrors\u001b[0m\u001b[0;34m=\u001b[0m\u001b[0merrors\u001b[0m\u001b[0;34m,\u001b[0m\u001b[0;34m\u001b[0m\u001b[0;34m\u001b[0m\u001b[0m\n\u001b[0m\u001b[1;32m   4175\u001b[0m         )\n\u001b[1;32m   4176\u001b[0m \u001b[0;34m\u001b[0m\u001b[0m\n",
            "\u001b[0;32m/usr/local/lib/python3.7/dist-packages/pandas/core/generic.py\u001b[0m in \u001b[0;36mdrop\u001b[0;34m(self, labels, axis, index, columns, level, inplace, errors)\u001b[0m\n\u001b[1;32m   3887\u001b[0m         \u001b[0;32mfor\u001b[0m \u001b[0maxis\u001b[0m\u001b[0;34m,\u001b[0m \u001b[0mlabels\u001b[0m \u001b[0;32min\u001b[0m \u001b[0maxes\u001b[0m\u001b[0;34m.\u001b[0m\u001b[0mitems\u001b[0m\u001b[0;34m(\u001b[0m\u001b[0;34m)\u001b[0m\u001b[0;34m:\u001b[0m\u001b[0;34m\u001b[0m\u001b[0;34m\u001b[0m\u001b[0m\n\u001b[1;32m   3888\u001b[0m             \u001b[0;32mif\u001b[0m \u001b[0mlabels\u001b[0m \u001b[0;32mis\u001b[0m \u001b[0;32mnot\u001b[0m \u001b[0;32mNone\u001b[0m\u001b[0;34m:\u001b[0m\u001b[0;34m\u001b[0m\u001b[0;34m\u001b[0m\u001b[0m\n\u001b[0;32m-> 3889\u001b[0;31m                 \u001b[0mobj\u001b[0m \u001b[0;34m=\u001b[0m \u001b[0mobj\u001b[0m\u001b[0;34m.\u001b[0m\u001b[0m_drop_axis\u001b[0m\u001b[0;34m(\u001b[0m\u001b[0mlabels\u001b[0m\u001b[0;34m,\u001b[0m \u001b[0maxis\u001b[0m\u001b[0;34m,\u001b[0m \u001b[0mlevel\u001b[0m\u001b[0;34m=\u001b[0m\u001b[0mlevel\u001b[0m\u001b[0;34m,\u001b[0m \u001b[0merrors\u001b[0m\u001b[0;34m=\u001b[0m\u001b[0merrors\u001b[0m\u001b[0;34m)\u001b[0m\u001b[0;34m\u001b[0m\u001b[0;34m\u001b[0m\u001b[0m\n\u001b[0m\u001b[1;32m   3890\u001b[0m \u001b[0;34m\u001b[0m\u001b[0m\n\u001b[1;32m   3891\u001b[0m         \u001b[0;32mif\u001b[0m \u001b[0minplace\u001b[0m\u001b[0;34m:\u001b[0m\u001b[0;34m\u001b[0m\u001b[0;34m\u001b[0m\u001b[0m\n",
            "\u001b[0;32m/usr/local/lib/python3.7/dist-packages/pandas/core/generic.py\u001b[0m in \u001b[0;36m_drop_axis\u001b[0;34m(self, labels, axis, level, errors)\u001b[0m\n\u001b[1;32m   3921\u001b[0m                 \u001b[0mnew_axis\u001b[0m \u001b[0;34m=\u001b[0m \u001b[0maxis\u001b[0m\u001b[0;34m.\u001b[0m\u001b[0mdrop\u001b[0m\u001b[0;34m(\u001b[0m\u001b[0mlabels\u001b[0m\u001b[0;34m,\u001b[0m \u001b[0mlevel\u001b[0m\u001b[0;34m=\u001b[0m\u001b[0mlevel\u001b[0m\u001b[0;34m,\u001b[0m \u001b[0merrors\u001b[0m\u001b[0;34m=\u001b[0m\u001b[0merrors\u001b[0m\u001b[0;34m)\u001b[0m\u001b[0;34m\u001b[0m\u001b[0;34m\u001b[0m\u001b[0m\n\u001b[1;32m   3922\u001b[0m             \u001b[0;32melse\u001b[0m\u001b[0;34m:\u001b[0m\u001b[0;34m\u001b[0m\u001b[0;34m\u001b[0m\u001b[0m\n\u001b[0;32m-> 3923\u001b[0;31m                 \u001b[0mnew_axis\u001b[0m \u001b[0;34m=\u001b[0m \u001b[0maxis\u001b[0m\u001b[0;34m.\u001b[0m\u001b[0mdrop\u001b[0m\u001b[0;34m(\u001b[0m\u001b[0mlabels\u001b[0m\u001b[0;34m,\u001b[0m \u001b[0merrors\u001b[0m\u001b[0;34m=\u001b[0m\u001b[0merrors\u001b[0m\u001b[0;34m)\u001b[0m\u001b[0;34m\u001b[0m\u001b[0;34m\u001b[0m\u001b[0m\n\u001b[0m\u001b[1;32m   3924\u001b[0m             \u001b[0mresult\u001b[0m \u001b[0;34m=\u001b[0m \u001b[0mself\u001b[0m\u001b[0;34m.\u001b[0m\u001b[0mreindex\u001b[0m\u001b[0;34m(\u001b[0m\u001b[0;34m**\u001b[0m\u001b[0;34m{\u001b[0m\u001b[0maxis_name\u001b[0m\u001b[0;34m:\u001b[0m \u001b[0mnew_axis\u001b[0m\u001b[0;34m}\u001b[0m\u001b[0;34m)\u001b[0m\u001b[0;34m\u001b[0m\u001b[0;34m\u001b[0m\u001b[0m\n\u001b[1;32m   3925\u001b[0m \u001b[0;34m\u001b[0m\u001b[0m\n",
            "\u001b[0;32m/usr/local/lib/python3.7/dist-packages/pandas/core/indexes/base.py\u001b[0m in \u001b[0;36mdrop\u001b[0;34m(self, labels, errors)\u001b[0m\n\u001b[1;32m   5285\u001b[0m         \u001b[0;32mif\u001b[0m \u001b[0mmask\u001b[0m\u001b[0;34m.\u001b[0m\u001b[0many\u001b[0m\u001b[0;34m(\u001b[0m\u001b[0;34m)\u001b[0m\u001b[0;34m:\u001b[0m\u001b[0;34m\u001b[0m\u001b[0;34m\u001b[0m\u001b[0m\n\u001b[1;32m   5286\u001b[0m             \u001b[0;32mif\u001b[0m \u001b[0merrors\u001b[0m \u001b[0;34m!=\u001b[0m \u001b[0;34m\"ignore\"\u001b[0m\u001b[0;34m:\u001b[0m\u001b[0;34m\u001b[0m\u001b[0;34m\u001b[0m\u001b[0m\n\u001b[0;32m-> 5287\u001b[0;31m                 \u001b[0;32mraise\u001b[0m \u001b[0mKeyError\u001b[0m\u001b[0;34m(\u001b[0m\u001b[0;34mf\"{labels[mask]} not found in axis\"\u001b[0m\u001b[0;34m)\u001b[0m\u001b[0;34m\u001b[0m\u001b[0;34m\u001b[0m\u001b[0m\n\u001b[0m\u001b[1;32m   5288\u001b[0m             \u001b[0mindexer\u001b[0m \u001b[0;34m=\u001b[0m \u001b[0mindexer\u001b[0m\u001b[0;34m[\u001b[0m\u001b[0;34m~\u001b[0m\u001b[0mmask\u001b[0m\u001b[0;34m]\u001b[0m\u001b[0;34m\u001b[0m\u001b[0;34m\u001b[0m\u001b[0m\n\u001b[1;32m   5289\u001b[0m         \u001b[0;32mreturn\u001b[0m \u001b[0mself\u001b[0m\u001b[0;34m.\u001b[0m\u001b[0mdelete\u001b[0m\u001b[0;34m(\u001b[0m\u001b[0mindexer\u001b[0m\u001b[0;34m)\u001b[0m\u001b[0;34m\u001b[0m\u001b[0;34m\u001b[0m\u001b[0m\n",
            "\u001b[0;31mKeyError\u001b[0m: \"['Unnamed: 0'] not found in axis\""
          ]
        }
      ]
    },
    {
      "cell_type": "code",
      "metadata": {
        "id": "pp5RNfj2MSWh"
      },
      "source": [
        "XX = np.array(data)\n",
        "print(XX.shape)\n",
        "X_TEST = XX.reshape(XX.shape[0],94,11)\n",
        "print(X_TEST.shape)\n"
      ],
      "execution_count": null,
      "outputs": []
    },
    {
      "cell_type": "code",
      "metadata": {
        "id": "iKbg4-fLMSeB"
      },
      "source": [
        "_, test_acc = model.evaluate(X_TEST, YY, verbose=0)\n",
        "print(test_acc)"
      ],
      "execution_count": null,
      "outputs": []
    },
    {
      "cell_type": "markdown",
      "metadata": {
        "id": "3N5rL-3uO-Yb"
      },
      "source": []
    },
    {
      "cell_type": "code",
      "metadata": {
        "id": "tJG3NQeFO_op"
      },
      "source": [
        "y_pred = model.predict_classes(X_TEST)\n",
        "print(y_pred)"
      ],
      "execution_count": null,
      "outputs": []
    },
    {
      "cell_type": "markdown",
      "metadata": {
        "id": "fL0dIE1-MMmz"
      },
      "source": [
        "##Data For This Code"
      ]
    },
    {
      "cell_type": "code",
      "metadata": {
        "id": "ljE9wDvwAk_u"
      },
      "source": [
        "df.drop(['Unnamed: 0'],axis =1,inplace=True)"
      ],
      "execution_count": null,
      "outputs": []
    },
    {
      "cell_type": "code",
      "metadata": {
        "id": "HOrLkRYwJxdL"
      },
      "source": [
        "Y = df['OutPut']\n",
        "df.drop(['OutPut'],axis=1,inplace=True)"
      ],
      "execution_count": null,
      "outputs": []
    },
    {
      "cell_type": "code",
      "metadata": {
        "id": "E0UO4queFloR",
        "colab": {
          "base_uri": "https://localhost:8080/"
        },
        "outputId": "c851dc46-2b81-4895-8923-14972b4398fd"
      },
      "source": [
        "Y"
      ],
      "execution_count": null,
      "outputs": [
        {
          "output_type": "execute_result",
          "data": {
            "text/plain": [
              "0        1\n",
              "1        1\n",
              "2        1\n",
              "3        1\n",
              "4        1\n",
              "        ..\n",
              "33836    0\n",
              "33837    0\n",
              "33838    0\n",
              "33839    0\n",
              "33840    0\n",
              "Name: OutPut, Length: 33841, dtype: int64"
            ]
          },
          "metadata": {},
          "execution_count": 66
        }
      ]
    },
    {
      "cell_type": "code",
      "metadata": {
        "id": "oVVtkRU4reBw",
        "colab": {
          "base_uri": "https://localhost:8080/",
          "height": 487
        },
        "outputId": "767d9772-f0fb-437b-912d-1a0745840232"
      },
      "source": [
        "df"
      ],
      "execution_count": null,
      "outputs": [
        {
          "output_type": "execute_result",
          "data": {
            "text/plain": [
              "              0         1         2         3         4         5         6  \\\n",
              "0      0.000000  0.000000  0.000000  0.000000  0.000000  0.000000  0.000000   \n",
              "1      0.000000  0.000000  0.000000  0.000000  0.000000  0.000000  0.000000   \n",
              "2      0.000000  0.000000  0.000000  0.000000  0.000000  0.000000  0.000000   \n",
              "3      0.000000  0.000000  0.000000  0.000000  0.000000  0.000000  0.000000   \n",
              "4      0.144214  0.170073  0.189467  0.227759  0.177035  0.211348  0.191954   \n",
              "...         ...       ...       ...       ...       ...       ...       ...   \n",
              "33836  0.000000  0.000000  0.000000  0.000000  0.000000  0.000000  0.000000   \n",
              "33837  0.106101  0.104948  0.130319  0.103794  0.071503  0.097451  0.112444   \n",
              "33838  0.000000  0.000000  0.000000  0.000000  0.000000  0.000000  0.000000   \n",
              "33839  0.218579  0.683060  0.218579  0.273224  0.000000  0.000000  0.000000   \n",
              "33840  0.000000  0.000000  0.000000  0.000000  0.000000  0.000000  0.000000   \n",
              "\n",
              "              7         8         9  ...      1024      1025      1026  \\\n",
              "0      0.000000  0.000000  0.000000  ...  0.372593  0.366702  0.622952   \n",
              "1      0.000000  0.000000  0.000000  ...  0.000000  0.000000  0.000000   \n",
              "2      0.000000  0.000000  0.000000  ...  0.000000  0.000000  0.000000   \n",
              "3      0.000000  0.000000  0.000000  ...  0.232475  0.357296  0.421316   \n",
              "4      0.175543  0.169576  0.042270  ...  0.883684  0.515689  0.761848   \n",
              "...         ...       ...       ...  ...       ...       ...       ...   \n",
              "33836  0.000000  0.000000  0.000000  ...  0.909956  0.749246  0.701895   \n",
              "33837  0.069196  0.074386  0.078422  ...  0.047861  0.278515  0.374813   \n",
              "33838  0.000000  0.000000  0.000000  ...  0.464519  0.443511  0.498755   \n",
              "33839  0.000000  0.136612  0.382514  ...  0.655738  1.000000  0.437158   \n",
              "33840  0.000000  0.000000  0.000000  ...  0.000000  0.000000  0.000000   \n",
              "\n",
              "           1027      1028      1029      1030      1031      1032      1033  \n",
              "0      0.279813  1.000000  0.664556  0.974559  0.690328  0.656824  0.549317  \n",
              "1      0.000000  0.000000  0.000000  0.000000  0.000000  0.000000  0.000000  \n",
              "2      0.000000  0.000000  0.000000  0.000000  0.000000  0.000000  0.000000  \n",
              "3      0.664878  0.958512  0.664163  0.521817  0.458512  0.692775  0.569385  \n",
              "4      0.671838  0.608185  0.730021  0.813069  0.902084  0.915510  0.860809  \n",
              "...         ...       ...       ...       ...       ...       ...       ...  \n",
              "33836  0.835007  0.843948  0.948568  0.791517  0.747498  0.740507  1.000000  \n",
              "33837  0.398743  0.422673  0.336178  0.403644  0.315996  0.297544  0.470534  \n",
              "33838  0.535325  0.754746  0.641923  0.693277  0.645814  0.576564  0.606909  \n",
              "33839  0.437158  0.464481  0.519126  0.792350  0.628415  0.546448  0.710383  \n",
              "33840  0.000000  0.000000  0.000000  0.000000  0.000000  0.000000  0.000000  \n",
              "\n",
              "[33841 rows x 1034 columns]"
            ],
            "text/html": [
              "\n",
              "  <div id=\"df-ff4e1fb7-afd6-4751-b430-532c5121e36a\">\n",
              "    <div class=\"colab-df-container\">\n",
              "      <div>\n",
              "<style scoped>\n",
              "    .dataframe tbody tr th:only-of-type {\n",
              "        vertical-align: middle;\n",
              "    }\n",
              "\n",
              "    .dataframe tbody tr th {\n",
              "        vertical-align: top;\n",
              "    }\n",
              "\n",
              "    .dataframe thead th {\n",
              "        text-align: right;\n",
              "    }\n",
              "</style>\n",
              "<table border=\"1\" class=\"dataframe\">\n",
              "  <thead>\n",
              "    <tr style=\"text-align: right;\">\n",
              "      <th></th>\n",
              "      <th>0</th>\n",
              "      <th>1</th>\n",
              "      <th>2</th>\n",
              "      <th>3</th>\n",
              "      <th>4</th>\n",
              "      <th>5</th>\n",
              "      <th>6</th>\n",
              "      <th>7</th>\n",
              "      <th>8</th>\n",
              "      <th>9</th>\n",
              "      <th>...</th>\n",
              "      <th>1024</th>\n",
              "      <th>1025</th>\n",
              "      <th>1026</th>\n",
              "      <th>1027</th>\n",
              "      <th>1028</th>\n",
              "      <th>1029</th>\n",
              "      <th>1030</th>\n",
              "      <th>1031</th>\n",
              "      <th>1032</th>\n",
              "      <th>1033</th>\n",
              "    </tr>\n",
              "  </thead>\n",
              "  <tbody>\n",
              "    <tr>\n",
              "      <th>0</th>\n",
              "      <td>0.000000</td>\n",
              "      <td>0.000000</td>\n",
              "      <td>0.000000</td>\n",
              "      <td>0.000000</td>\n",
              "      <td>0.000000</td>\n",
              "      <td>0.000000</td>\n",
              "      <td>0.000000</td>\n",
              "      <td>0.000000</td>\n",
              "      <td>0.000000</td>\n",
              "      <td>0.000000</td>\n",
              "      <td>...</td>\n",
              "      <td>0.372593</td>\n",
              "      <td>0.366702</td>\n",
              "      <td>0.622952</td>\n",
              "      <td>0.279813</td>\n",
              "      <td>1.000000</td>\n",
              "      <td>0.664556</td>\n",
              "      <td>0.974559</td>\n",
              "      <td>0.690328</td>\n",
              "      <td>0.656824</td>\n",
              "      <td>0.549317</td>\n",
              "    </tr>\n",
              "    <tr>\n",
              "      <th>1</th>\n",
              "      <td>0.000000</td>\n",
              "      <td>0.000000</td>\n",
              "      <td>0.000000</td>\n",
              "      <td>0.000000</td>\n",
              "      <td>0.000000</td>\n",
              "      <td>0.000000</td>\n",
              "      <td>0.000000</td>\n",
              "      <td>0.000000</td>\n",
              "      <td>0.000000</td>\n",
              "      <td>0.000000</td>\n",
              "      <td>...</td>\n",
              "      <td>0.000000</td>\n",
              "      <td>0.000000</td>\n",
              "      <td>0.000000</td>\n",
              "      <td>0.000000</td>\n",
              "      <td>0.000000</td>\n",
              "      <td>0.000000</td>\n",
              "      <td>0.000000</td>\n",
              "      <td>0.000000</td>\n",
              "      <td>0.000000</td>\n",
              "      <td>0.000000</td>\n",
              "    </tr>\n",
              "    <tr>\n",
              "      <th>2</th>\n",
              "      <td>0.000000</td>\n",
              "      <td>0.000000</td>\n",
              "      <td>0.000000</td>\n",
              "      <td>0.000000</td>\n",
              "      <td>0.000000</td>\n",
              "      <td>0.000000</td>\n",
              "      <td>0.000000</td>\n",
              "      <td>0.000000</td>\n",
              "      <td>0.000000</td>\n",
              "      <td>0.000000</td>\n",
              "      <td>...</td>\n",
              "      <td>0.000000</td>\n",
              "      <td>0.000000</td>\n",
              "      <td>0.000000</td>\n",
              "      <td>0.000000</td>\n",
              "      <td>0.000000</td>\n",
              "      <td>0.000000</td>\n",
              "      <td>0.000000</td>\n",
              "      <td>0.000000</td>\n",
              "      <td>0.000000</td>\n",
              "      <td>0.000000</td>\n",
              "    </tr>\n",
              "    <tr>\n",
              "      <th>3</th>\n",
              "      <td>0.000000</td>\n",
              "      <td>0.000000</td>\n",
              "      <td>0.000000</td>\n",
              "      <td>0.000000</td>\n",
              "      <td>0.000000</td>\n",
              "      <td>0.000000</td>\n",
              "      <td>0.000000</td>\n",
              "      <td>0.000000</td>\n",
              "      <td>0.000000</td>\n",
              "      <td>0.000000</td>\n",
              "      <td>...</td>\n",
              "      <td>0.232475</td>\n",
              "      <td>0.357296</td>\n",
              "      <td>0.421316</td>\n",
              "      <td>0.664878</td>\n",
              "      <td>0.958512</td>\n",
              "      <td>0.664163</td>\n",
              "      <td>0.521817</td>\n",
              "      <td>0.458512</td>\n",
              "      <td>0.692775</td>\n",
              "      <td>0.569385</td>\n",
              "    </tr>\n",
              "    <tr>\n",
              "      <th>4</th>\n",
              "      <td>0.144214</td>\n",
              "      <td>0.170073</td>\n",
              "      <td>0.189467</td>\n",
              "      <td>0.227759</td>\n",
              "      <td>0.177035</td>\n",
              "      <td>0.211348</td>\n",
              "      <td>0.191954</td>\n",
              "      <td>0.175543</td>\n",
              "      <td>0.169576</td>\n",
              "      <td>0.042270</td>\n",
              "      <td>...</td>\n",
              "      <td>0.883684</td>\n",
              "      <td>0.515689</td>\n",
              "      <td>0.761848</td>\n",
              "      <td>0.671838</td>\n",
              "      <td>0.608185</td>\n",
              "      <td>0.730021</td>\n",
              "      <td>0.813069</td>\n",
              "      <td>0.902084</td>\n",
              "      <td>0.915510</td>\n",
              "      <td>0.860809</td>\n",
              "    </tr>\n",
              "    <tr>\n",
              "      <th>...</th>\n",
              "      <td>...</td>\n",
              "      <td>...</td>\n",
              "      <td>...</td>\n",
              "      <td>...</td>\n",
              "      <td>...</td>\n",
              "      <td>...</td>\n",
              "      <td>...</td>\n",
              "      <td>...</td>\n",
              "      <td>...</td>\n",
              "      <td>...</td>\n",
              "      <td>...</td>\n",
              "      <td>...</td>\n",
              "      <td>...</td>\n",
              "      <td>...</td>\n",
              "      <td>...</td>\n",
              "      <td>...</td>\n",
              "      <td>...</td>\n",
              "      <td>...</td>\n",
              "      <td>...</td>\n",
              "      <td>...</td>\n",
              "      <td>...</td>\n",
              "    </tr>\n",
              "    <tr>\n",
              "      <th>33836</th>\n",
              "      <td>0.000000</td>\n",
              "      <td>0.000000</td>\n",
              "      <td>0.000000</td>\n",
              "      <td>0.000000</td>\n",
              "      <td>0.000000</td>\n",
              "      <td>0.000000</td>\n",
              "      <td>0.000000</td>\n",
              "      <td>0.000000</td>\n",
              "      <td>0.000000</td>\n",
              "      <td>0.000000</td>\n",
              "      <td>...</td>\n",
              "      <td>0.909956</td>\n",
              "      <td>0.749246</td>\n",
              "      <td>0.701895</td>\n",
              "      <td>0.835007</td>\n",
              "      <td>0.843948</td>\n",
              "      <td>0.948568</td>\n",
              "      <td>0.791517</td>\n",
              "      <td>0.747498</td>\n",
              "      <td>0.740507</td>\n",
              "      <td>1.000000</td>\n",
              "    </tr>\n",
              "    <tr>\n",
              "      <th>33837</th>\n",
              "      <td>0.106101</td>\n",
              "      <td>0.104948</td>\n",
              "      <td>0.130319</td>\n",
              "      <td>0.103794</td>\n",
              "      <td>0.071503</td>\n",
              "      <td>0.097451</td>\n",
              "      <td>0.112444</td>\n",
              "      <td>0.069196</td>\n",
              "      <td>0.074386</td>\n",
              "      <td>0.078422</td>\n",
              "      <td>...</td>\n",
              "      <td>0.047861</td>\n",
              "      <td>0.278515</td>\n",
              "      <td>0.374813</td>\n",
              "      <td>0.398743</td>\n",
              "      <td>0.422673</td>\n",
              "      <td>0.336178</td>\n",
              "      <td>0.403644</td>\n",
              "      <td>0.315996</td>\n",
              "      <td>0.297544</td>\n",
              "      <td>0.470534</td>\n",
              "    </tr>\n",
              "    <tr>\n",
              "      <th>33838</th>\n",
              "      <td>0.000000</td>\n",
              "      <td>0.000000</td>\n",
              "      <td>0.000000</td>\n",
              "      <td>0.000000</td>\n",
              "      <td>0.000000</td>\n",
              "      <td>0.000000</td>\n",
              "      <td>0.000000</td>\n",
              "      <td>0.000000</td>\n",
              "      <td>0.000000</td>\n",
              "      <td>0.000000</td>\n",
              "      <td>...</td>\n",
              "      <td>0.464519</td>\n",
              "      <td>0.443511</td>\n",
              "      <td>0.498755</td>\n",
              "      <td>0.535325</td>\n",
              "      <td>0.754746</td>\n",
              "      <td>0.641923</td>\n",
              "      <td>0.693277</td>\n",
              "      <td>0.645814</td>\n",
              "      <td>0.576564</td>\n",
              "      <td>0.606909</td>\n",
              "    </tr>\n",
              "    <tr>\n",
              "      <th>33839</th>\n",
              "      <td>0.218579</td>\n",
              "      <td>0.683060</td>\n",
              "      <td>0.218579</td>\n",
              "      <td>0.273224</td>\n",
              "      <td>0.000000</td>\n",
              "      <td>0.000000</td>\n",
              "      <td>0.000000</td>\n",
              "      <td>0.000000</td>\n",
              "      <td>0.136612</td>\n",
              "      <td>0.382514</td>\n",
              "      <td>...</td>\n",
              "      <td>0.655738</td>\n",
              "      <td>1.000000</td>\n",
              "      <td>0.437158</td>\n",
              "      <td>0.437158</td>\n",
              "      <td>0.464481</td>\n",
              "      <td>0.519126</td>\n",
              "      <td>0.792350</td>\n",
              "      <td>0.628415</td>\n",
              "      <td>0.546448</td>\n",
              "      <td>0.710383</td>\n",
              "    </tr>\n",
              "    <tr>\n",
              "      <th>33840</th>\n",
              "      <td>0.000000</td>\n",
              "      <td>0.000000</td>\n",
              "      <td>0.000000</td>\n",
              "      <td>0.000000</td>\n",
              "      <td>0.000000</td>\n",
              "      <td>0.000000</td>\n",
              "      <td>0.000000</td>\n",
              "      <td>0.000000</td>\n",
              "      <td>0.000000</td>\n",
              "      <td>0.000000</td>\n",
              "      <td>...</td>\n",
              "      <td>0.000000</td>\n",
              "      <td>0.000000</td>\n",
              "      <td>0.000000</td>\n",
              "      <td>0.000000</td>\n",
              "      <td>0.000000</td>\n",
              "      <td>0.000000</td>\n",
              "      <td>0.000000</td>\n",
              "      <td>0.000000</td>\n",
              "      <td>0.000000</td>\n",
              "      <td>0.000000</td>\n",
              "    </tr>\n",
              "  </tbody>\n",
              "</table>\n",
              "<p>33841 rows × 1034 columns</p>\n",
              "</div>\n",
              "      <button class=\"colab-df-convert\" onclick=\"convertToInteractive('df-ff4e1fb7-afd6-4751-b430-532c5121e36a')\"\n",
              "              title=\"Convert this dataframe to an interactive table.\"\n",
              "              style=\"display:none;\">\n",
              "        \n",
              "  <svg xmlns=\"http://www.w3.org/2000/svg\" height=\"24px\"viewBox=\"0 0 24 24\"\n",
              "       width=\"24px\">\n",
              "    <path d=\"M0 0h24v24H0V0z\" fill=\"none\"/>\n",
              "    <path d=\"M18.56 5.44l.94 2.06.94-2.06 2.06-.94-2.06-.94-.94-2.06-.94 2.06-2.06.94zm-11 1L8.5 8.5l.94-2.06 2.06-.94-2.06-.94L8.5 2.5l-.94 2.06-2.06.94zm10 10l.94 2.06.94-2.06 2.06-.94-2.06-.94-.94-2.06-.94 2.06-2.06.94z\"/><path d=\"M17.41 7.96l-1.37-1.37c-.4-.4-.92-.59-1.43-.59-.52 0-1.04.2-1.43.59L10.3 9.45l-7.72 7.72c-.78.78-.78 2.05 0 2.83L4 21.41c.39.39.9.59 1.41.59.51 0 1.02-.2 1.41-.59l7.78-7.78 2.81-2.81c.8-.78.8-2.07 0-2.86zM5.41 20L4 18.59l7.72-7.72 1.47 1.35L5.41 20z\"/>\n",
              "  </svg>\n",
              "      </button>\n",
              "      \n",
              "  <style>\n",
              "    .colab-df-container {\n",
              "      display:flex;\n",
              "      flex-wrap:wrap;\n",
              "      gap: 12px;\n",
              "    }\n",
              "\n",
              "    .colab-df-convert {\n",
              "      background-color: #E8F0FE;\n",
              "      border: none;\n",
              "      border-radius: 50%;\n",
              "      cursor: pointer;\n",
              "      display: none;\n",
              "      fill: #1967D2;\n",
              "      height: 32px;\n",
              "      padding: 0 0 0 0;\n",
              "      width: 32px;\n",
              "    }\n",
              "\n",
              "    .colab-df-convert:hover {\n",
              "      background-color: #E2EBFA;\n",
              "      box-shadow: 0px 1px 2px rgba(60, 64, 67, 0.3), 0px 1px 3px 1px rgba(60, 64, 67, 0.15);\n",
              "      fill: #174EA6;\n",
              "    }\n",
              "\n",
              "    [theme=dark] .colab-df-convert {\n",
              "      background-color: #3B4455;\n",
              "      fill: #D2E3FC;\n",
              "    }\n",
              "\n",
              "    [theme=dark] .colab-df-convert:hover {\n",
              "      background-color: #434B5C;\n",
              "      box-shadow: 0px 1px 3px 1px rgba(0, 0, 0, 0.15);\n",
              "      filter: drop-shadow(0px 1px 2px rgba(0, 0, 0, 0.3));\n",
              "      fill: #FFFFFF;\n",
              "    }\n",
              "  </style>\n",
              "\n",
              "      <script>\n",
              "        const buttonEl =\n",
              "          document.querySelector('#df-ff4e1fb7-afd6-4751-b430-532c5121e36a button.colab-df-convert');\n",
              "        buttonEl.style.display =\n",
              "          google.colab.kernel.accessAllowed ? 'block' : 'none';\n",
              "\n",
              "        async function convertToInteractive(key) {\n",
              "          const element = document.querySelector('#df-ff4e1fb7-afd6-4751-b430-532c5121e36a');\n",
              "          const dataTable =\n",
              "            await google.colab.kernel.invokeFunction('convertToInteractive',\n",
              "                                                     [key], {});\n",
              "          if (!dataTable) return;\n",
              "\n",
              "          const docLinkHtml = 'Like what you see? Visit the ' +\n",
              "            '<a target=\"_blank\" href=https://colab.research.google.com/notebooks/data_table.ipynb>data table notebook</a>'\n",
              "            + ' to learn more about interactive tables.';\n",
              "          element.innerHTML = '';\n",
              "          dataTable['output_type'] = 'display_data';\n",
              "          await google.colab.output.renderOutput(dataTable, element);\n",
              "          const docLink = document.createElement('div');\n",
              "          docLink.innerHTML = docLinkHtml;\n",
              "          element.appendChild(docLink);\n",
              "        }\n",
              "      </script>\n",
              "    </div>\n",
              "  </div>\n",
              "  "
            ]
          },
          "metadata": {},
          "execution_count": 67
        }
      ]
    },
    {
      "cell_type": "markdown",
      "metadata": {
        "id": "JOq4NzDZMoGA"
      },
      "source": [
        "#plot"
      ]
    },
    {
      "cell_type": "code",
      "metadata": {
        "id": "_uQ8uszXkRBA",
        "colab": {
          "base_uri": "https://localhost:8080/"
        },
        "outputId": "fa96d127-0f20-4cb9-e4c2-d6f0d246fa28"
      },
      "source": [
        "theft_c = df.iloc[4]\n",
        "normal_c = df.iloc[33837]\n",
        "theft_c\n"
      ],
      "execution_count": null,
      "outputs": [
        {
          "output_type": "execute_result",
          "data": {
            "text/plain": [
              "0       0.144214\n",
              "1       0.170073\n",
              "2       0.189467\n",
              "3       0.227759\n",
              "4       0.177035\n",
              "          ...   \n",
              "1029    0.730021\n",
              "1030    0.813069\n",
              "1031    0.902084\n",
              "1032    0.915510\n",
              "1033    0.860809\n",
              "Name: 4, Length: 1034, dtype: float64"
            ]
          },
          "metadata": {},
          "execution_count": 38
        }
      ]
    },
    {
      "cell_type": "code",
      "metadata": {
        "id": "1vGZPeemmXG4",
        "colab": {
          "base_uri": "https://localhost:8080/",
          "height": 489
        },
        "outputId": "4f6162b4-9ba1-4a31-fa7a-c50d493611f1"
      },
      "source": [
        "from pandas import read_csv\n",
        "from statsmodels.graphics.tsaplots import plot_acf\n",
        "plt.figure(figsize = (10,3))\n",
        "plot_acf(theft_c,lags = 600)\n",
        "plt.title('ACF Plot of Electricity Theft Data')\n",
        "plt.ylim(-0.20, 1)\n",
        "plt.ylabel('Auto Correlation Function')\n",
        "plt.xlabel('Lags')\n",
        "plt.savefig('/content/drive/MyDrive/ManojSirIntern/acf_plot_600.png', dpi = 300)\n",
        "plt.show()\n"
      ],
      "execution_count": null,
      "outputs": [
        {
          "output_type": "display_data",
          "data": {
            "text/plain": [
              "<Figure size 1000x300 with 0 Axes>"
            ]
          },
          "metadata": {}
        },
        {
          "output_type": "display_data",
          "data": {
            "text/plain": [
              "<Figure size 640x480 with 1 Axes>"
            ],
            "image/png": "[encoded data removed]"
          },
          "metadata": {}
        }
      ]
    },
    {
      "cell_type": "code",
      "metadata": {
        "id": "DTDr-EDJH4Hk",
        "colab": {
          "base_uri": "https://localhost:8080/",
          "height": 489
        },
        "outputId": "608afe7c-e86b-4bc2-d49c-c62752d48967"
      },
      "source": [
        "from pandas import read_csv\n",
        "from statsmodels.graphics.tsaplots import plot_acf\n",
        "plt.figure(figsize = (20,5))\n",
        "plot_acf(normal_c,lags = 600)\n",
        "plt.title('ACF Plot of Normal Usage Data')\n",
        "plt.ylim(-0.2, 1)\n",
        "plt.ylabel('Auto Correlation Function')\n",
        "plt.xlabel('Lags')\n",
        "plt.savefig('/content/drive/MyDrive/ManojSirIntern/acf_plot_normal_600.png', dpi = 1000)\n",
        "plt.show()"
      ],
      "execution_count": null,
      "outputs": [
        {
          "output_type": "display_data",
          "data": {
            "text/plain": [
              "<Figure size 2000x500 with 0 Axes>"
            ]
          },
          "metadata": {}
        },
        {
          "output_type": "display_data",
          "data": {
            "text/plain": [
              "<Figure size 640x480 with 1 Axes>"
            ],
            "image/png": "[encoded data removed]"
          },
          "metadata": {}
        }
      ]
    },
    {
      "cell_type": "code",
      "metadata": {
        "id": "yzVANNrOIFzb",
        "colab": {
          "base_uri": "https://localhost:8080/",
          "height": 489
        },
        "outputId": "49858c44-efa5-4e06-e4ac-4b74e1bbbebb"
      },
      "source": [
        "from statsmodels.graphics.tsaplots import plot_pacf\n",
        "plt.figure(figsize = (20,5))\n",
        "plot_pacf(normal_c,lags = 100)\n",
        "plt.ylim(-0.3, 1)\n",
        "plt.title('PACF Plot of Normal Usage Data')\n",
        "plt.ylabel('Partial Auto Correlation Function')\n",
        "plt.xlabel('Lags')\n",
        "plt.savefig('/content/drive/MyDrive/ManojSirIntern/pacf_plot_normal_100.png', dpi = 2000)\n",
        "plt.show()"
      ],
      "execution_count": null,
      "outputs": [
        {
          "output_type": "display_data",
          "data": {
            "text/plain": [
              "<Figure size 2000x500 with 0 Axes>"
            ]
          },
          "metadata": {}
        },
        {
          "output_type": "display_data",
          "data": {
            "text/plain": [
              "<Figure size 640x480 with 1 Axes>"
            ],
            "image/png": "[encoded data removed]"
          },
          "metadata": {}
        }
      ]
    },
    {
      "cell_type": "code",
      "metadata": {
        "id": "QtmbtT__IX6Y",
        "colab": {
          "base_uri": "https://localhost:8080/",
          "height": 489
        },
        "outputId": "d67c1671-8aa9-4bd1-c00e-aa9de19eb8ce"
      },
      "source": [
        "from statsmodels.graphics.tsaplots import plot_pacf\n",
        "plt.figure(figsize = (10,3))\n",
        "plot_pacf(theft_c,lags =100)\n",
        "plt.ylim(-0.3, 1)\n",
        "plt.title('PACF Plot of Electricity Theft Data')\n",
        "plt.ylabel('Partial Auto Correlation Function')\n",
        "plt.xlabel('Lags')\n",
        "plt.savefig('/content/drive/MyDrive/ManojSirIntern/pacf_plot_theft_100.png', dpi = 2000)\n",
        "plt.show()"
      ],
      "execution_count": null,
      "outputs": [
        {
          "output_type": "display_data",
          "data": {
            "text/plain": [
              "<Figure size 2000x500 with 0 Axes>"
            ]
          },
          "metadata": {}
        },
        {
          "output_type": "display_data",
          "data": {
            "text/plain": [
              "<Figure size 640x480 with 1 Axes>"
            ],
            "image/png": "[encoded data removed]"
          },
          "metadata": {}
        }
      ]
    },
    {
      "cell_type": "code",
      "metadata": {
        "id": "K1Nn7c3flE-d"
      },
      "source": [
        "import matplotlib.pyplot as plt\n",
        "%matplotlib inline\n"
      ],
      "execution_count": null,
      "outputs": []
    },
    {
      "cell_type": "code",
      "metadata": {
        "id": "ppnGcgDpsAke"
      },
      "source": [],
      "execution_count": null,
      "outputs": []
    },
    {
      "cell_type": "markdown",
      "metadata": {
        "id": "xUeQv2WosECW"
      },
      "source": [
        "#Plot DATA\n"
      ]
    },
    {
      "cell_type": "code",
      "metadata": {
        "colab": {
          "base_uri": "https://localhost:8080/",
          "height": 350
        },
        "id": "DYy3YzQgbOMf",
        "outputId": "1b08507c-eb6f-4be9-b791-23c45f8f20b4"
      },
      "source": [
        "plt.figure(figsize = (10,5))\n",
        "x = [1,2,3,4,5,6,7,8,9,10,11,12,13,14,15,16,17,18,19,20,21,22,23,24,25,26,27,28,29,30]\n",
        "plt.plot(x,theft_c[900:930],'r',label = 'Electricity Theft', data = None)\n",
        "plt.plot(x,normal_c[900:930],'g', label = 'Normal Usage',data = None)\n",
        "plt.legend(loc = 'upper left')\n",
        "plt.xlim(right=30) #xmax is your value\n",
        "plt.xlim(left=1) #xmin is your value\n",
        "plt.ylim(top=1.2) #ymax is your value\n",
        "plt.ylim(bottom=0)\n",
        "\n",
        "plt.title('Visualization of Electricity Theft and Normal Usage Data of 1 month')\n",
        "plt.xlabel('Day (August-2016)')\n",
        "plt.ylabel('Daily Electricity Consumption Data')\n",
        "#plt.grid(which='major', axis='both' )\n",
        "#plt.savefig('Pic.jpeg')\n",
        "plt.savefig('/mydrive/ManojSirIntern/Fig2_One_month_visual.png', dpi = 2000)\n",
        "plt.show()"
      ],
      "execution_count": null,
      "outputs": [
        {
          "output_type": "display_data",
          "data": {
            "image/png": "[encoded data removed]",
            "text/plain": [
              "<Figure size 720x360 with 1 Axes>"
            ]
          },
          "metadata": {
            "tags": [],
            "needs_background": "light"
          }
        }
      ]
    },
    {
      "cell_type": "code",
      "metadata": {
        "id": "2wndg6EakXuv"
      },
      "source": [
        "#Save Plot Data in CSV File\n",
        "d = {'Theft': theft_c[900:930], 'Normal': normal_c[900:930]}\n",
        "vis_data = pd.DataFrame(data=d)\n",
        "vis_data.to_csv(\"/mydrive/ManojSirIntern/Fig2_One_month_visual.csv\")"
      ],
      "execution_count": null,
      "outputs": []
    },
    {
      "cell_type": "code",
      "metadata": {
        "id": "SI41JIBMoO3K"
      },
      "source": [],
      "execution_count": null,
      "outputs": []
    },
    {
      "cell_type": "code",
      "metadata": {
        "id": "R5HKcKUGXX8d",
        "colab": {
          "base_uri": "https://localhost:8080/",
          "height": 537
        },
        "outputId": "54fc1423-f00a-44dd-87bd-86da92c04608"
      },
      "source": [
        "r = 914\n",
        "w1 = normal_c[r:r+7]\n",
        "w2 = normal_c[r+7:r+14]\n",
        "w3 = normal_c[r+14:r+21]\n",
        "w4 = normal_c[r+21:r+28]\n",
        "print(w1.shape)\n",
        "print(w2.shape)\n",
        "print(w3.shape)\n",
        "print(w4.shape)\n",
        "x = ['Day1','Day2','Day3','Day4','Day5','Day6','Day7']\n",
        "plt.figure(figsize = (10,5))\n",
        "plt.plot(x,w1,label = '1st Week', linewidth=3.0)\n",
        "plt.plot(x,w2,label = '2nd Week',linewidth=3.0)\n",
        "plt.plot(x,w3,label = '3rd Week',linewidth=3.0)\n",
        "plt.plot(x,w4,label = '4rth Week',linewidth=3.0)\n",
        "plt.axis([0, 6, 0, 1])\n",
        "plt.legend() #loc = 'upper left'\n",
        "\n",
        "plt.title('Weekly Visualisation of  Normal Usage Data of 1 month', color = \"black\", weight = \"bold\")\n",
        "\n",
        "plt.ylabel('Daily Electricity Consumption Data (Normalized)',color = \"black\")\n",
        "#plt.grid(which='major', axis='both' )\n",
        "#plt.savefig('Pic.jpeg')\n",
        "plt.savefig('/mydrive/ManojSirIntern/F3_Weekly_Visual_Normal.png', dpi = 1500)\n",
        "plt.show()"
      ],
      "execution_count": null,
      "outputs": [
        {
          "output_type": "stream",
          "name": "stdout",
          "text": [
            "(7,)\n",
            "(7,)\n",
            "(7,)\n",
            "(7,)\n"
          ]
        },
        {
          "output_type": "display_data",
          "data": {
            "text/plain": [
              "<Figure size 1000x500 with 1 Axes>"
            ],
            "image/png": "[encoded data removed]"
          },
          "metadata": {}
        }
      ]
    },
    {
      "cell_type": "code",
      "metadata": {
        "id": "QJUI-OTkr9oY"
      },
      "source": [
        "#Save in Excel\n",
        "d = {'Week1': np.array(w1),'Week2': np.array(w2),'Week3': np.array(w3),'Week4': np.array(w4)}\n",
        "weekly_nor = pd.DataFrame(data=d)\n",
        "weekly_nor.to_csv(\"/mydrive/ManojSirIntern/F2_Weekly_visual_Normal.csv\")"
      ],
      "execution_count": null,
      "outputs": []
    },
    {
      "cell_type": "code",
      "metadata": {
        "colab": {
          "base_uri": "https://localhost:8080/",
          "height": 537
        },
        "id": "BKFeD5cdsxmx",
        "outputId": "406f0601-6e6b-4769-e49e-261709cb8424"
      },
      "source": [
        "r = 864\n",
        "w1 = theft_c[r:r+7]\n",
        "w2 = theft_c[r+7:r+14]\n",
        "w3 = theft_c[r+14:r+21]\n",
        "w4 = theft_c[r+21:r+28]\n",
        "print(w1.shape)\n",
        "print(w2.shape)\n",
        "print(w3.shape)\n",
        "print(w4.shape)\n",
        "x = ['Day1','Day2','Day3','Day4','Day5','Day6','Day7']\n",
        "plt.figure(figsize = (10,5))\n",
        "plt.plot(x,w1,label = '1st Week', linewidth=3.0)\n",
        "plt.plot(x,w2,label = '2nd Week',linewidth=3.0)\n",
        "plt.plot(x,w3,label = '3rd Week',linewidth=3.0)\n",
        "plt.plot(x,w4,label = '4rth Week',linewidth=3.0)\n",
        "plt.axis([0, 6, 0, 1.2])\n",
        "plt.legend() #loc = 'upper left'\n",
        "\n",
        "plt.title('Weekly Visualisation of Theft Data of 1 month', color = \"black\", weight = \"bold\")\n",
        "\n",
        "plt.ylabel('Daily Electricity Consumption Data (Normalized)',color = \"black\")\n",
        "#plt.grid(which='major', axis='both' )\n",
        "#plt.savefig('Pic.jpeg')\n",
        "plt.savefig('/mydrive/ManojSirIntern/F3_Weekly_Visual_Theft.png', dpi = 1500)\n",
        "plt.show()"
      ],
      "execution_count": null,
      "outputs": [
        {
          "output_type": "stream",
          "name": "stdout",
          "text": [
            "(7,)\n",
            "(7,)\n",
            "(7,)\n",
            "(7,)\n"
          ]
        },
        {
          "output_type": "display_data",
          "data": {
            "text/plain": [
              "<Figure size 1000x500 with 1 Axes>"
            ],
            "image/png": "[encoded data removed]"
          },
          "metadata": {}
        }
      ]
    },
    {
      "cell_type": "code",
      "metadata": {
        "id": "xc7T_6m6vPvX"
      },
      "source": [
        "#Save in Excel\n",
        "d = {'Week1': np.array(w1),'Week2': np.array(w2),'Week3': np.array(w3),'Week4': np.array(w4)}\n",
        "weekly_theft = pd.DataFrame(data=d)\n",
        "weekly_theft.to_csv(\"/mydrive/ManojSirIntern/F2_Weekly_visual_theft.csv\")"
      ],
      "execution_count": null,
      "outputs": []
    },
    {
      "cell_type": "code",
      "metadata": {
        "id": "BfqGUQqwvYWv"
      },
      "source": [],
      "execution_count": null,
      "outputs": []
    },
    {
      "cell_type": "markdown",
      "metadata": {
        "id": "nsJTyQNVvhsA"
      },
      "source": [
        "#Model Implementation"
      ]
    },
    {
      "cell_type": "code",
      "metadata": {
        "id": "BGRt5V99LLvg"
      },
      "source": [
        "\n",
        "x = np.array(df)\n",
        "y = np.array(Y)"
      ],
      "execution_count": null,
      "outputs": []
    },
    {
      "cell_type": "code",
      "metadata": {
        "id": "KVZJ2DqULfPm",
        "colab": {
          "base_uri": "https://localhost:8080/"
        },
        "outputId": "9711ccac-5efe-405c-8da0-4a03dbddf8f4"
      },
      "source": [
        "print(x.shape)\n",
        "print(y.shape)"
      ],
      "execution_count": null,
      "outputs": [
        {
          "output_type": "stream",
          "text": [
            "(33841, 1034)\n",
            "(33841,)\n"
          ],
          "name": "stdout"
        }
      ]
    },
    {
      "cell_type": "code",
      "metadata": {
        "id": "8H9P-8InB4NP",
        "colab": {
          "base_uri": "https://localhost:8080/",
          "height": 231
        },
        "outputId": "34416134-d026-4119-8fa0-2c570cbf5179"
      },
      "source": [
        "\n",
        "model = Sequential()\n",
        "model.add(Dense(1034, activation='relu',input_dim = 1034))\n",
        "model.add(Dense(500, activation='tanh'))\n",
        "model.add(Dense(50, activation='tanh'))\n",
        "model.add(Dense(500, activation='tanh'))\n",
        "model.add(Dense(700, activation='tanh'))\n",
        "model.add(Dense(1034, activation='relu'))\n",
        "\n",
        "opt = SGD(lr=0.01, momentum=0.9)\n",
        "model.compile(loss='binary_crossentropy', optimizer=opt)"
      ],
      "execution_count": null,
      "outputs": [
        {
          "output_type": "error",
          "ename": "NameError",
          "evalue": "ignored",
          "traceback": [
            "\u001b[0;31m---------------------------------------------------------------------------\u001b[0m",
            "\u001b[0;31mNameError\u001b[0m                                 Traceback (most recent call last)",
            "\u001b[0;32m<ipython-input-13-55a978655dfb>\u001b[0m in \u001b[0;36m<module>\u001b[0;34m()\u001b[0m\n\u001b[1;32m      1\u001b[0m \u001b[0;34m\u001b[0m\u001b[0m\n\u001b[0;32m----> 2\u001b[0;31m \u001b[0mmodel\u001b[0m \u001b[0;34m=\u001b[0m \u001b[0mSequential\u001b[0m\u001b[0;34m(\u001b[0m\u001b[0;34m)\u001b[0m\u001b[0;34m\u001b[0m\u001b[0;34m\u001b[0m\u001b[0m\n\u001b[0m\u001b[1;32m      3\u001b[0m \u001b[0mmodel\u001b[0m\u001b[0;34m.\u001b[0m\u001b[0madd\u001b[0m\u001b[0;34m(\u001b[0m\u001b[0mDense\u001b[0m\u001b[0;34m(\u001b[0m\u001b[0;36m1034\u001b[0m\u001b[0;34m,\u001b[0m \u001b[0mactivation\u001b[0m\u001b[0;34m=\u001b[0m\u001b[0;34m'relu'\u001b[0m\u001b[0;34m,\u001b[0m\u001b[0minput_dim\u001b[0m \u001b[0;34m=\u001b[0m \u001b[0;36m1034\u001b[0m\u001b[0;34m)\u001b[0m\u001b[0;34m)\u001b[0m\u001b[0;34m\u001b[0m\u001b[0;34m\u001b[0m\u001b[0m\n\u001b[1;32m      4\u001b[0m \u001b[0mmodel\u001b[0m\u001b[0;34m.\u001b[0m\u001b[0madd\u001b[0m\u001b[0;34m(\u001b[0m\u001b[0mDense\u001b[0m\u001b[0;34m(\u001b[0m\u001b[0;36m500\u001b[0m\u001b[0;34m,\u001b[0m \u001b[0mactivation\u001b[0m\u001b[0;34m=\u001b[0m\u001b[0;34m'tanh'\u001b[0m\u001b[0;34m)\u001b[0m\u001b[0;34m)\u001b[0m\u001b[0;34m\u001b[0m\u001b[0;34m\u001b[0m\u001b[0m\n\u001b[1;32m      5\u001b[0m \u001b[0mmodel\u001b[0m\u001b[0;34m.\u001b[0m\u001b[0madd\u001b[0m\u001b[0;34m(\u001b[0m\u001b[0mDense\u001b[0m\u001b[0;34m(\u001b[0m\u001b[0;36m50\u001b[0m\u001b[0;34m,\u001b[0m \u001b[0mactivation\u001b[0m\u001b[0;34m=\u001b[0m\u001b[0;34m'tanh'\u001b[0m\u001b[0;34m)\u001b[0m\u001b[0;34m)\u001b[0m\u001b[0;34m\u001b[0m\u001b[0;34m\u001b[0m\u001b[0m\n",
            "\u001b[0;31mNameError\u001b[0m: name 'Sequential' is not defined"
          ]
        }
      ]
    },
    {
      "cell_type": "code",
      "metadata": {
        "id": "BMSANPjgB4mg"
      },
      "source": [
        "history = model.fit(x, x, epochs=20, verbose=1,batch_size=5,shuffle = False)\n"
      ],
      "execution_count": null,
      "outputs": []
    },
    {
      "cell_type": "code",
      "metadata": {
        "id": "B-uUuhV8B40f"
      },
      "source": [
        "x = model.predict(x)\n",
        "print(x.shape)"
      ],
      "execution_count": null,
      "outputs": []
    },
    {
      "cell_type": "code",
      "metadata": {
        "id": "xiOd5XXLOoRg"
      },
      "source": [
        "from sklearn.decomposition import PCA\n",
        "pca = PCA(n_components=50)\n",
        "pca.fit(x)"
      ],
      "execution_count": null,
      "outputs": []
    },
    {
      "cell_type": "code",
      "metadata": {
        "id": "XTsMukc-OyE4"
      },
      "source": [
        "x_pca = pca.transform(x)\n",
        "print(x_pca.shape)"
      ],
      "execution_count": null,
      "outputs": []
    },
    {
      "cell_type": "code",
      "metadata": {
        "id": "1GyjGF9bMiQo"
      },
      "source": [],
      "execution_count": null,
      "outputs": []
    },
    {
      "cell_type": "markdown",
      "metadata": {
        "id": "I142dshuMjU7"
      },
      "source": [
        "#Code"
      ]
    },
    {
      "cell_type": "code",
      "metadata": {
        "id": "mTec2wFkMx58",
        "colab": {
          "base_uri": "https://localhost:8080/"
        },
        "outputId": "e6fe6113-015e-4278-f3c0-b9cf7f74d9f4"
      },
      "source": [
        "x = np.array(df)\n",
        "print(x.shape)\n"
      ],
      "execution_count": null,
      "outputs": [
        {
          "output_type": "stream",
          "text": [
            "(33841, 1034)\n"
          ],
          "name": "stdout"
        }
      ]
    },
    {
      "cell_type": "code",
      "metadata": {
        "id": "aulU9AqgL0S2"
      },
      "source": [
        "from sklearn.model_selection import train_test_split\n",
        "x_train, x_test, y_train, y_test = train_test_split(x, Y, test_size=0.40) #random_state=42"
      ],
      "execution_count": null,
      "outputs": []
    },
    {
      "cell_type": "code",
      "metadata": {
        "id": "MzhojbvUNQH2",
        "colab": {
          "base_uri": "https://localhost:8080/"
        },
        "outputId": "1c99ffa2-b99d-4a03-a988-a5c9f4bede7d"
      },
      "source": [
        "print(x_train.shape)\n",
        "print(y_train.shape)\n",
        "print(x_test.shape)\n",
        "print(y_test.shape)"
      ],
      "execution_count": null,
      "outputs": [
        {
          "output_type": "stream",
          "text": [
            "(20304, 1034)\n",
            "(20304,)\n",
            "(13537, 1034)\n",
            "(13537,)\n"
          ],
          "name": "stdout"
        }
      ]
    },
    {
      "cell_type": "code",
      "metadata": {
        "id": "ur7m6wrTNXrf"
      },
      "source": [
        "\n"
      ],
      "execution_count": null,
      "outputs": []
    },
    {
      "cell_type": "markdown",
      "metadata": {
        "id": "8xPmbiADCkRb"
      },
      "source": [
        "#CNN Model"
      ]
    },
    {
      "cell_type": "code",
      "metadata": {
        "id": "13YxAsBTwwd2"
      },
      "source": [
        "x_train = x_train.reshape(x_train.shape[0],94,11)\n",
        "x_test = x_test.reshape(x_test.shape[0],94,11)\n",
        "#x_train = x_train.reshape(x_train.shape[0],x_train.shape[1],1)\n",
        "#x_test = x_test.reshape(x_test.shape[0],x_test.shape[1],1)\n",
        "#y_train = y_train.reshape(y_train.shape[0],1)\n",
        "#y_test = y_test.reshape(y_test.shape[0],1)"
      ],
      "execution_count": null,
      "outputs": []
    },
    {
      "cell_type": "code",
      "metadata": {
        "id": "7CgPrOqhxzNx",
        "colab": {
          "base_uri": "https://localhost:8080/"
        },
        "outputId": "13bf709a-e17d-464d-e311-acc18aae1f71"
      },
      "source": [
        "print(x_train.shape)\n",
        "print(y_train.shape)\n",
        "print(x_test.shape)\n",
        "print(y_test.shape)"
      ],
      "execution_count": null,
      "outputs": [
        {
          "output_type": "stream",
          "text": [
            "(20304, 94, 11)\n",
            "(20304,)\n",
            "(13537, 94, 11)\n",
            "(13537,)\n"
          ],
          "name": "stdout"
        }
      ]
    },
    {
      "cell_type": "code",
      "metadata": {
        "id": "yAp0-hBqyBfJ"
      },
      "source": [
        "from keras.models import Sequential\n",
        "\n",
        "from keras.layers import Dense\n",
        "from keras.layers import Flatten\n",
        "from keras.layers import Dropout\n",
        "from keras.layers.convolutional import Conv1D\n",
        "from keras.layers.convolutional import MaxPooling1D\n",
        "from keras.utils import to_categorical\n",
        "\n",
        "from keras.optimizers import Adam"
      ],
      "execution_count": null,
      "outputs": []
    },
    {
      "cell_type": "code",
      "metadata": {
        "id": "9dOciHTNQ2BL"
      },
      "source": [
        "#n_steps,n_features = ,11\n",
        "model = Sequential()\n",
        "model.add(Conv1D(filters=64, kernel_size=3, activation='relu', input_shape=(94,11)))\n",
        "model.add(MaxPooling1D(pool_size=2))\n",
        "model.add(Conv1D(filters=32, kernel_size=3, activation='relu'))\n",
        "model.add(MaxPooling1D(pool_size=2))\n",
        "model.add(Flatten())\n",
        "model.add(Dense(100, activation='tanh'))\n",
        "model.add(Dropout(0.2))\n",
        "model.add(Dense(50, activation='tanh'))\n",
        "model.add(Dropout(0.2))\n",
        "model.add(Dense(1, activation='sigmoid'))\n",
        "\n",
        "\n",
        "model.compile(loss='binary_crossentropy', optimizer='adam', metrics=['accuracy'])"
      ],
      "execution_count": null,
      "outputs": []
    },
    {
      "cell_type": "code",
      "metadata": {
        "id": "LTbYJB9lRQq6",
        "colab": {
          "base_uri": "https://localhost:8080/"
        },
        "outputId": "448d9e45-2579-4e58-8cce-8f60cfec49f2"
      },
      "source": [
        "history = model.fit(x_train, y_train, epochs=50, verbose=1,batch_size=10, validation_data=(x_test, y_test),shuffle = True)\n"
      ],
      "execution_count": null,
      "outputs": [
        {
          "output_type": "stream",
          "text": [
            "Epoch 1/50\n",
            "2031/2031 [==============================] - 43s 6ms/step - loss: 0.3566 - accuracy: 0.8877 - val_loss: 0.3244 - val_accuracy: 0.8947\n",
            "Epoch 2/50\n",
            "2031/2031 [==============================] - 13s 6ms/step - loss: 0.3189 - accuracy: 0.8930 - val_loss: 0.3113 - val_accuracy: 0.8949\n",
            "Epoch 3/50\n",
            "2031/2031 [==============================] - 13s 6ms/step - loss: 0.3057 - accuracy: 0.8971 - val_loss: 0.3009 - val_accuracy: 0.8961\n",
            "Epoch 4/50\n",
            "2031/2031 [==============================] - 13s 6ms/step - loss: 0.2927 - accuracy: 0.8999 - val_loss: 0.2973 - val_accuracy: 0.9000\n",
            "Epoch 5/50\n",
            "2031/2031 [==============================] - 13s 6ms/step - loss: 0.2848 - accuracy: 0.9015 - val_loss: 0.2912 - val_accuracy: 0.9023\n",
            "Epoch 6/50\n",
            "2031/2031 [==============================] - 13s 6ms/step - loss: 0.2729 - accuracy: 0.9054 - val_loss: 0.2925 - val_accuracy: 0.9000\n",
            "Epoch 7/50\n",
            "2031/2031 [==============================] - 12s 6ms/step - loss: 0.2573 - accuracy: 0.9110 - val_loss: 0.3028 - val_accuracy: 0.8955\n",
            "Epoch 8/50\n",
            "2031/2031 [==============================] - 13s 6ms/step - loss: 0.2511 - accuracy: 0.9134 - val_loss: 0.3018 - val_accuracy: 0.9009\n",
            "Epoch 9/50\n",
            "2031/2031 [==============================] - 13s 6ms/step - loss: 0.2385 - accuracy: 0.9164 - val_loss: 0.3017 - val_accuracy: 0.8950\n",
            "Epoch 10/50\n",
            "2031/2031 [==============================] - 12s 6ms/step - loss: 0.2303 - accuracy: 0.9200 - val_loss: 0.3029 - val_accuracy: 0.8973\n",
            "Epoch 11/50\n",
            "2031/2031 [==============================] - 13s 6ms/step - loss: 0.2268 - accuracy: 0.9228 - val_loss: 0.3208 - val_accuracy: 0.8865\n",
            "Epoch 12/50\n",
            "2031/2031 [==============================] - 13s 6ms/step - loss: 0.2132 - accuracy: 0.9278 - val_loss: 0.3170 - val_accuracy: 0.9003\n",
            "Epoch 13/50\n",
            "2031/2031 [==============================] - 13s 6ms/step - loss: 0.2116 - accuracy: 0.9274 - val_loss: 0.3312 - val_accuracy: 0.9001\n",
            "Epoch 14/50\n",
            "2031/2031 [==============================] - 12s 6ms/step - loss: 0.2010 - accuracy: 0.9295 - val_loss: 0.3175 - val_accuracy: 0.8964\n",
            "Epoch 15/50\n",
            "2031/2031 [==============================] - 12s 6ms/step - loss: 0.1910 - accuracy: 0.9340 - val_loss: 0.3195 - val_accuracy: 0.8949\n",
            "Epoch 16/50\n",
            "2031/2031 [==============================] - 13s 6ms/step - loss: 0.1917 - accuracy: 0.9333 - val_loss: 0.3391 - val_accuracy: 0.8963\n",
            "Epoch 17/50\n",
            "2031/2031 [==============================] - 13s 6ms/step - loss: 0.1807 - accuracy: 0.9360 - val_loss: 0.3534 - val_accuracy: 0.8922\n",
            "Epoch 18/50\n",
            "2031/2031 [==============================] - 13s 6ms/step - loss: 0.1763 - accuracy: 0.9384 - val_loss: 0.3425 - val_accuracy: 0.8975\n",
            "Epoch 19/50\n",
            "2031/2031 [==============================] - 13s 6ms/step - loss: 0.1650 - accuracy: 0.9453 - val_loss: 0.3452 - val_accuracy: 0.8964\n",
            "Epoch 20/50\n",
            "2031/2031 [==============================] - 13s 6ms/step - loss: 0.1675 - accuracy: 0.9427 - val_loss: 0.3618 - val_accuracy: 0.8913\n",
            "Epoch 21/50\n",
            "2031/2031 [==============================] - 13s 6ms/step - loss: 0.1616 - accuracy: 0.9436 - val_loss: 0.3832 - val_accuracy: 0.8939\n",
            "Epoch 22/50\n",
            "2031/2031 [==============================] - 12s 6ms/step - loss: 0.1570 - accuracy: 0.9483 - val_loss: 0.3699 - val_accuracy: 0.8873\n",
            "Epoch 23/50\n",
            "2031/2031 [==============================] - 12s 6ms/step - loss: 0.1566 - accuracy: 0.9478 - val_loss: 0.3861 - val_accuracy: 0.8860\n",
            "Epoch 24/50\n",
            "2031/2031 [==============================] - 12s 6ms/step - loss: 0.1445 - accuracy: 0.9516 - val_loss: 0.3980 - val_accuracy: 0.8838\n",
            "Epoch 25/50\n",
            "2031/2031 [==============================] - 12s 6ms/step - loss: 0.1471 - accuracy: 0.9501 - val_loss: 0.3743 - val_accuracy: 0.8933\n",
            "Epoch 26/50\n",
            "2031/2031 [==============================] - 13s 7ms/step - loss: 0.1355 - accuracy: 0.9547 - val_loss: 0.4131 - val_accuracy: 0.8880\n",
            "Epoch 27/50\n",
            "2031/2031 [==============================] - 13s 6ms/step - loss: 0.1354 - accuracy: 0.9543 - val_loss: 0.4054 - val_accuracy: 0.8845\n",
            "Epoch 28/50\n",
            "2031/2031 [==============================] - 13s 6ms/step - loss: 0.1367 - accuracy: 0.9551 - val_loss: 0.3912 - val_accuracy: 0.8865\n",
            "Epoch 29/50\n",
            "2031/2031 [==============================] - 13s 6ms/step - loss: 0.1315 - accuracy: 0.9563 - val_loss: 0.3912 - val_accuracy: 0.8890\n",
            "Epoch 30/50\n",
            "2031/2031 [==============================] - 13s 7ms/step - loss: 0.1216 - accuracy: 0.9603 - val_loss: 0.4180 - val_accuracy: 0.8851\n",
            "Epoch 31/50\n",
            "2031/2031 [==============================] - 13s 6ms/step - loss: 0.1285 - accuracy: 0.9561 - val_loss: 0.4198 - val_accuracy: 0.8704\n",
            "Epoch 32/50\n",
            "2031/2031 [==============================] - 12s 6ms/step - loss: 0.1258 - accuracy: 0.9590 - val_loss: 0.4215 - val_accuracy: 0.8888\n",
            "Epoch 33/50\n",
            "2031/2031 [==============================] - 13s 6ms/step - loss: 0.1307 - accuracy: 0.9556 - val_loss: 0.4286 - val_accuracy: 0.8813\n",
            "Epoch 34/50\n",
            "2031/2031 [==============================] - 13s 6ms/step - loss: 0.1201 - accuracy: 0.9609 - val_loss: 0.4262 - val_accuracy: 0.8892\n",
            "Epoch 35/50\n",
            "2031/2031 [==============================] - 13s 6ms/step - loss: 0.1193 - accuracy: 0.9602 - val_loss: 0.4439 - val_accuracy: 0.8831\n",
            "Epoch 36/50\n",
            "2031/2031 [==============================] - 13s 6ms/step - loss: 0.1165 - accuracy: 0.9609 - val_loss: 0.4536 - val_accuracy: 0.8804\n",
            "Epoch 37/50\n",
            "2031/2031 [==============================] - 14s 7ms/step - loss: 0.1127 - accuracy: 0.9625 - val_loss: 0.4350 - val_accuracy: 0.8913\n",
            "Epoch 38/50\n",
            "2031/2031 [==============================] - 13s 6ms/step - loss: 0.1105 - accuracy: 0.9644 - val_loss: 0.4497 - val_accuracy: 0.8873\n",
            "Epoch 39/50\n",
            "2031/2031 [==============================] - 14s 7ms/step - loss: 0.1075 - accuracy: 0.9663 - val_loss: 0.4586 - val_accuracy: 0.8895\n",
            "Epoch 40/50\n",
            "2031/2031 [==============================] - 13s 6ms/step - loss: 0.1046 - accuracy: 0.9664 - val_loss: 0.4709 - val_accuracy: 0.8743\n",
            "Epoch 41/50\n",
            "2031/2031 [==============================] - 13s 6ms/step - loss: 0.1102 - accuracy: 0.9645 - val_loss: 0.4675 - val_accuracy: 0.8919\n",
            "Epoch 42/50\n",
            "2031/2031 [==============================] - 13s 6ms/step - loss: 0.1063 - accuracy: 0.9638 - val_loss: 0.4638 - val_accuracy: 0.8881\n",
            "Epoch 43/50\n",
            "2031/2031 [==============================] - 13s 6ms/step - loss: 0.0931 - accuracy: 0.9692 - val_loss: 0.4758 - val_accuracy: 0.8921\n",
            "Epoch 44/50\n",
            "2031/2031 [==============================] - 13s 6ms/step - loss: 0.0964 - accuracy: 0.9685 - val_loss: 0.4587 - val_accuracy: 0.8854\n",
            "Epoch 45/50\n",
            "2031/2031 [==============================] - 13s 7ms/step - loss: 0.0953 - accuracy: 0.9687 - val_loss: 0.4735 - val_accuracy: 0.8789\n",
            "Epoch 46/50\n",
            "2031/2031 [==============================] - 13s 6ms/step - loss: 0.0929 - accuracy: 0.9690 - val_loss: 0.4928 - val_accuracy: 0.8783\n",
            "Epoch 47/50\n",
            "2031/2031 [==============================] - 13s 6ms/step - loss: 0.0894 - accuracy: 0.9715 - val_loss: 0.4792 - val_accuracy: 0.8818\n",
            "Epoch 48/50\n",
            "2031/2031 [==============================] - 13s 6ms/step - loss: 0.0960 - accuracy: 0.9678 - val_loss: 0.4870 - val_accuracy: 0.8883\n",
            "Epoch 49/50\n",
            "2031/2031 [==============================] - 12s 6ms/step - loss: 0.0919 - accuracy: 0.9694 - val_loss: 0.4939 - val_accuracy: 0.8859\n",
            "Epoch 50/50\n",
            "2031/2031 [==============================] - 13s 6ms/step - loss: 0.0853 - accuracy: 0.9729 - val_loss: 0.5209 - val_accuracy: 0.8858\n"
          ],
          "name": "stdout"
        }
      ]
    },
    {
      "cell_type": "code",
      "metadata": {
        "id": "bBSo6rpSQ2SX"
      },
      "source": [],
      "execution_count": null,
      "outputs": []
    },
    {
      "cell_type": "code",
      "metadata": {
        "id": "PjEWEQ9wRbG7"
      },
      "source": [],
      "execution_count": null,
      "outputs": []
    },
    {
      "cell_type": "code",
      "metadata": {
        "id": "qDaVtw_GRbaX"
      },
      "source": [
        "x_test1 = x_test\n",
        "y_test1 = y_test"
      ],
      "execution_count": null,
      "outputs": []
    },
    {
      "cell_type": "code",
      "metadata": {
        "id": "LtYfoEOzRbWQ"
      },
      "source": [
        "for i in range(2000):\n",
        "   p =  random.randint()"
      ],
      "execution_count": null,
      "outputs": []
    },
    {
      "cell_type": "code",
      "metadata": {
        "id": "OV_gyzS9RbRE"
      },
      "source": [],
      "execution_count": null,
      "outputs": []
    },
    {
      "cell_type": "markdown",
      "metadata": {
        "id": "CGOv4D1WRhJC"
      },
      "source": [
        "#Convo1D"
      ]
    },
    {
      "cell_type": "code",
      "metadata": {
        "id": "JD48l2Uz-R2A"
      },
      "source": [
        "from keras.models import Sequential\n",
        "\n",
        "from keras.layers import Dense\n",
        "from keras.layers import Flatten\n",
        "from keras.layers import Dropout\n",
        "from keras.layers.convolutional import Conv1D\n",
        "from keras.layers.convolutional import MaxPooling1D\n",
        "from keras.utils import to_categorical\n",
        "\n",
        "from keras.optimizers import Adam"
      ],
      "execution_count": null,
      "outputs": []
    },
    {
      "cell_type": "code",
      "metadata": {
        "id": "fPqDikd9yU0X"
      },
      "source": [
        "n_steps,n_features = 50,1\n",
        "model = Sequential()\n",
        "model.add(Conv1D(filters=64, kernel_size=3, activation='relu', input_shape=(n_steps, n_features)))\n",
        "model.add(MaxPooling1D(pool_size=2))\n",
        "model.add(Conv1D(filters=32, kernel_size=3, activation='relu'))\n",
        "model.add(MaxPooling1D(pool_size=2))\n",
        "model.add(Flatten())\n",
        "model.add(Dense(100, activation='tanh'))\n",
        "model.add(Dropout(0.2))\n",
        "model.add(Dense(50, activation='tanh'))\n",
        "model.add(Dropout(0.2))\n",
        "model.add(Dense(1, activation='sigmoid'))\n",
        "\n",
        "\n",
        "model.compile(loss='binary_crossentropy', optimizer='adam', metrics=['accuracy'])"
      ],
      "execution_count": null,
      "outputs": []
    },
    {
      "cell_type": "code",
      "metadata": {
        "id": "OJxcCRVq-S7N"
      },
      "source": [
        "history = model.fit(x_train, y_train, epochs=20, verbose=1,batch_size=5, validation_data=(x_test, y_test),shuffle = True)\n"
      ],
      "execution_count": null,
      "outputs": []
    },
    {
      "cell_type": "markdown",
      "metadata": {
        "id": "DumduWiVw5L_"
      },
      "source": [
        "#Save Model"
      ]
    },
    {
      "cell_type": "code",
      "metadata": {
        "id": "nuU7d9hOv4on"
      },
      "source": [
        "model.save('CNN_Theft.h5')"
      ],
      "execution_count": null,
      "outputs": []
    },
    {
      "cell_type": "code",
      "metadata": {
        "id": "7HqmEWNRw4Ui"
      },
      "source": [
        "!cp 'CNN_Theft.h5' '/mydrive/ManojSirIntern/cnn_theft.h5'"
      ],
      "execution_count": null,
      "outputs": []
    },
    {
      "cell_type": "code",
      "metadata": {
        "id": "hTKz-hZPwoUi"
      },
      "source": [
        "from keras.models import load_model\n",
        "model = load_model('/mydrive/ManojSirIntern/cnn_theft.h5')"
      ],
      "execution_count": null,
      "outputs": []
    },
    {
      "cell_type": "markdown",
      "metadata": {
        "id": "6xeNI2LaRlL2"
      },
      "source": [
        "#Evaluation"
      ]
    },
    {
      "cell_type": "code",
      "metadata": {
        "id": "C83UYQik-S3q",
        "colab": {
          "base_uri": "https://localhost:8080/"
        },
        "outputId": "1d298119-f710-4764-a7f4-d10cc5789b9f"
      },
      "source": [
        "# evaluate the model\n",
        "\n",
        "\n",
        "_, train_acc = model.evaluate(x_train, y_train, verbose=0)\n",
        "_, test_acc = model.evaluate(x_test, y_test, verbose=0)\n",
        "print('Train: %.3f, Test: %.3f' % (train_acc, test_acc))"
      ],
      "execution_count": null,
      "outputs": [
        {
          "output_type": "stream",
          "text": [
            "Train: 0.940, Test: 0.941\n"
          ],
          "name": "stdout"
        }
      ]
    },
    {
      "cell_type": "markdown",
      "metadata": {
        "id": "OFNuBfr4PJzN"
      },
      "source": [
        "#Plot Loss and Accuracy"
      ]
    },
    {
      "cell_type": "code",
      "metadata": {
        "id": "46P3IZfoCM8Y",
        "colab": {
          "base_uri": "https://localhost:8080/",
          "height": 180
        },
        "outputId": "727d745f-c7c2-47cd-8214-c00c1ffff0ac"
      },
      "source": [
        "from matplotlib import pyplot\n",
        "# plot loss during training\n",
        "pyplot.subplot(211)\n",
        "pyplot.title('Loss')\n",
        "pyplot.plot(history.history['loss'], label='train')\n",
        "pyplot.plot(history.history['val_loss'], label='test')\n",
        "pyplot.legend()\n"
      ],
      "execution_count": null,
      "outputs": [
        {
          "output_type": "execute_result",
          "data": {
            "text/plain": [
              "<matplotlib.legend.Legend at 0x7ff03c4782d0>"
            ]
          },
          "metadata": {
            "tags": []
          },
          "execution_count": 24
        },
        {
          "output_type": "display_data",
          "data": {
            "image/png": "[encoded data removed]",
            "text/plain": [
              "<Figure size 432x288 with 1 Axes>"
            ]
          },
          "metadata": {
            "tags": [],
            "needs_background": "light"
          }
        }
      ]
    },
    {
      "cell_type": "code",
      "metadata": {
        "id": "TOkStZ16CcD2",
        "colab": {
          "base_uri": "https://localhost:8080/",
          "height": 163
        },
        "outputId": "8b76bc24-c3a7-461b-fc7b-902e35d5e024"
      },
      "source": [
        "# plot accuracy during training\n",
        "pyplot.subplot(212)\n",
        "pyplot.title('Accuracy')\n",
        "pyplot.plot(history.history['accuracy'], label='train')\n",
        "pyplot.plot(history.history['val_accuracy'], label='test')\n",
        "pyplot.legend()\n",
        "pyplot.show()"
      ],
      "execution_count": null,
      "outputs": [
        {
          "output_type": "display_data",
          "data": {
            "image/png": "[encoded data removed]",
            "text/plain": [
              "<Figure size 432x288 with 1 Axes>"
            ]
          },
          "metadata": {
            "tags": [],
            "needs_background": "light"
          }
        }
      ]
    },
    {
      "cell_type": "markdown",
      "metadata": {
        "id": "56eHkLipPRRG"
      },
      "source": [
        "#Prediction"
      ]
    },
    {
      "cell_type": "code",
      "metadata": {
        "id": "ZASrEHGVCdXP"
      },
      "source": [],
      "execution_count": null,
      "outputs": []
    },
    {
      "cell_type": "code",
      "metadata": {
        "id": "seGSwJuWCdyp"
      },
      "source": [
        "y_pred = model.predict(x_test)\n",
        "#probability Prediction"
      ],
      "execution_count": null,
      "outputs": []
    },
    {
      "cell_type": "code",
      "metadata": {
        "id": "QenSghnmIDP4",
        "colab": {
          "base_uri": "https://localhost:8080/"
        },
        "outputId": "d7fee5be-8dfe-4160-f5da-3004b741a31d"
      },
      "source": [
        "y_pred = model.predict_classes(x_test)"
      ],
      "execution_count": null,
      "outputs": [
        {
          "output_type": "stream",
          "text": [
            "/usr/local/lib/python3.7/dist-packages/tensorflow/python/keras/engine/sequential.py:450: UserWarning: `model.predict_classes()` is deprecated and will be removed after 2021-01-01. Please use instead:* `np.argmax(model.predict(x), axis=-1)`,   if your model does multi-class classification   (e.g. if it uses a `softmax` last-layer activation).* `(model.predict(x) > 0.5).astype(\"int32\")`,   if your model does binary classification   (e.g. if it uses a `sigmoid` last-layer activation).\n",
            "  warnings.warn('`model.predict_classes()` is deprecated and '\n"
          ],
          "name": "stderr"
        }
      ]
    },
    {
      "cell_type": "code",
      "metadata": {
        "id": "2Ky2-OtvIGrf",
        "colab": {
          "base_uri": "https://localhost:8080/"
        },
        "outputId": "56ddd6d1-9985-4f07-9ff2-f33ead225e91"
      },
      "source": [
        "y_pred"
      ],
      "execution_count": null,
      "outputs": [
        {
          "output_type": "execute_result",
          "data": {
            "text/plain": [
              "array([[0],\n",
              "       [0],\n",
              "       [0],\n",
              "       ...,\n",
              "       [0],\n",
              "       [0],\n",
              "       [0]], dtype=int32)"
            ]
          },
          "metadata": {
            "tags": []
          },
          "execution_count": 21
        }
      ]
    },
    {
      "cell_type": "code",
      "metadata": {
        "id": "BeNVoV1vY8s3",
        "colab": {
          "base_uri": "https://localhost:8080/"
        },
        "outputId": "6c995e03-1b16-486a-e4a4-734e5f552218"
      },
      "source": [
        "count=0\n",
        "for i in y_pred:\n",
        "  if (i!=0):\n",
        "    count=count+1\n",
        "print('predicted 1 : ',count)\n",
        "\n",
        "count=0\n",
        "for i in y_test:\n",
        "  if (i!=0):\n",
        "    count=count+1\n",
        "print('actual 1 : ',count)"
      ],
      "execution_count": null,
      "outputs": [
        {
          "output_type": "stream",
          "text": [
            "predicted 1 :  1047\n",
            "actual 1 :  1426\n"
          ],
          "name": "stdout"
        }
      ]
    },
    {
      "cell_type": "code",
      "metadata": {
        "id": "_OJbgMb4ZeOL",
        "colab": {
          "base_uri": "https://localhost:8080/"
        },
        "outputId": "c9e9c810-00de-4de9-a371-079bc22b6e99"
      },
      "source": [
        "len(y_pred)"
      ],
      "execution_count": null,
      "outputs": [
        {
          "output_type": "execute_result",
          "data": {
            "text/plain": [
              "13537"
            ]
          },
          "metadata": {
            "tags": []
          },
          "execution_count": 23
        }
      ]
    },
    {
      "cell_type": "code",
      "metadata": {
        "id": "jkqTBNjaQWT2",
        "colab": {
          "base_uri": "https://localhost:8080/"
        },
        "outputId": "1fa7c68f-9dc5-4caa-ae4e-26330cdcbc0a"
      },
      "source": [
        "from sklearn.metrics import accuracy_score\n",
        "accuracy_score(y_test, y_pred)"
      ],
      "execution_count": null,
      "outputs": [
        {
          "output_type": "execute_result",
          "data": {
            "text/plain": [
              "0.940828839476989"
            ]
          },
          "metadata": {
            "tags": []
          },
          "execution_count": 24
        }
      ]
    },
    {
      "cell_type": "code",
      "metadata": {
        "id": "fDTa1FoLQ3_x",
        "colab": {
          "base_uri": "https://localhost:8080/"
        },
        "outputId": "c366a035-0a67-4ffb-9909-c7b95f8ae73c"
      },
      "source": [
        "#Normalised False give no of correctly clasify sample\n",
        "#Normalised True give percentage accuracy\n",
        "count = accuracy_score(y_test, y_pred, normalize=False)\n",
        "print('No of correctly classify sample ',count, ' out of ',len(y_test))"
      ],
      "execution_count": null,
      "outputs": [
        {
          "output_type": "stream",
          "text": [
            "No of correctly classify sample  12736  out of  13537\n"
          ],
          "name": "stdout"
        }
      ]
    },
    {
      "cell_type": "code",
      "metadata": {
        "id": "2VO4vW0GIvPt",
        "colab": {
          "base_uri": "https://localhost:8080/"
        },
        "outputId": "357e2f88-4371-4aff-85ec-99e70abae810"
      },
      "source": [
        "from sklearn.metrics import classification_report\n",
        "print(classification_report(y_test, y_pred))"
      ],
      "execution_count": null,
      "outputs": [
        {
          "output_type": "stream",
          "text": [
            "              precision    recall  f1-score   support\n",
            "\n",
            "           0       0.95      0.98      0.97     12111\n",
            "           1       0.80      0.59      0.68      1426\n",
            "\n",
            "    accuracy                           0.94     13537\n",
            "   macro avg       0.88      0.78      0.82     13537\n",
            "weighted avg       0.94      0.94      0.94     13537\n",
            "\n"
          ],
          "name": "stdout"
        }
      ]
    },
    {
      "cell_type": "code",
      "metadata": {
        "id": "TTTcRGDHKDn_"
      },
      "source": [],
      "execution_count": null,
      "outputs": []
    },
    {
      "cell_type": "markdown",
      "metadata": {
        "id": "95qd32qhKD_w"
      },
      "source": [
        "#Confusion Matrix"
      ]
    },
    {
      "cell_type": "code",
      "metadata": {
        "id": "NyIUMZftS4rN",
        "colab": {
          "base_uri": "https://localhost:8080/"
        },
        "outputId": "be5aaefd-8c80-4c6d-d8ad-38bfa8dc5dfb"
      },
      "source": [
        "from sklearn.metrics import confusion_matrix\n",
        "cm = confusion_matrix(y_test, y_pred)\n",
        "print(cm)"
      ],
      "execution_count": null,
      "outputs": [
        {
          "output_type": "stream",
          "text": [
            "[[11900   211]\n",
            " [  590   836]]\n"
          ],
          "name": "stdout"
        }
      ]
    },
    {
      "cell_type": "code",
      "metadata": {
        "id": "Hmsz8YUwTqz1"
      },
      "source": [
        "def plot_confusion_matrix(cm, classes,\n",
        "                          normalize=False,\n",
        "                          title='Confusion matrix',\n",
        "                          cmap=plt.cm.Blues):\n",
        "    \"\"\"\n",
        "    This function prints and plots the confusion matrix.\n",
        "    Normalization can be applied by setting `normalize=True`.\n",
        "    \"\"\"\n",
        "    import itertools\n",
        "    if normalize:\n",
        "        cm = cm.astype('float') / cm.sum(axis=1)[:, np.newaxis]\n",
        "        print(\"Normalized confusion matrix\")\n",
        "    else:\n",
        "        print('Confusion matrix, without normalization')\n",
        "\n",
        "    #print(cm)\n",
        "\n",
        "    plt.imshow(cm, interpolation='nearest', cmap=cmap)\n",
        "    plt.title(title)\n",
        "    plt.colorbar()\n",
        "    tick_marks = np.arange(len(classes))\n",
        "    plt.xticks(tick_marks, classes, rotation=45)\n",
        "    plt.yticks(tick_marks, classes)\n",
        "\n",
        "    fmt = '.2f' if normalize else 'd'\n",
        "    thresh = cm.max() / 2.\n",
        "    for i, j in itertools.product(range(cm.shape[0]), range(cm.shape[1])):\n",
        "        plt.text(j, i, format(cm[i, j], fmt),\n",
        "                 horizontalalignment=\"center\",\n",
        "                 color=\"white\" if cm[i, j] > thresh else \"black\")\n",
        "\n",
        "    plt.ylabel('True label')\n",
        "    plt.xlabel('Predicted label')\n",
        "    plt.tight_layout()"
      ],
      "execution_count": null,
      "outputs": []
    },
    {
      "cell_type": "code",
      "metadata": {
        "id": "H2g1XRLeTtqS",
        "colab": {
          "base_uri": "https://localhost:8080/",
          "height": 314
        },
        "outputId": "9b798abf-824f-4042-aad2-d01d7f0d6d89"
      },
      "source": [
        "\n",
        "np.set_printoptions(precision=2)\n",
        "\n",
        "# Plot non-normalized confusion matrix\n",
        "plt.figure()\n",
        "plot_confusion_matrix(cm, classes=['Normal', 'Theft'],title='Confusion matrix CNN@60')"
      ],
      "execution_count": null,
      "outputs": [
        {
          "output_type": "stream",
          "text": [
            "Confusion matrix, without normalization\n"
          ],
          "name": "stdout"
        },
        {
          "output_type": "display_data",
          "data": {
            "image/png": "[encoded data removed]",
            "text/plain": [
              "<Figure size 432x288 with 2 Axes>"
            ]
          },
          "metadata": {
            "tags": [],
            "needs_background": "light"
          }
        }
      ]
    },
    {
      "cell_type": "code",
      "metadata": {
        "id": "gQ2nR5LF-Ooi"
      },
      "source": [],
      "execution_count": null,
      "outputs": []
    },
    {
      "cell_type": "markdown",
      "metadata": {
        "id": "qaSBb0-aT76L"
      },
      "source": [
        "##Some Error"
      ]
    },
    {
      "cell_type": "code",
      "metadata": {
        "id": "QUa2u_-uZYLG"
      },
      "source": [
        "# Plot non-normalized confusion matrix\n",
        "titles_options = [(\"Confusion matrix, without normalization\", None),\n",
        "                  (\"Normalized confusion matrix\", 'true')]\n",
        "for title, normalize in titles_options:\n",
        "    disp = plot_confusion_matrix(clf, x_test, y_test,\n",
        "                                 display_labels=['Normal','Theft'],\n",
        "                                 cmap=plt.cm.Blues,\n",
        "                                 normalize=normalize)\n",
        "    disp.ax_.set_title(title)\n",
        "\n",
        "    print(title)\n",
        "    print(disp.confusion_matrix)\n",
        "\n",
        "plt.show()"
      ],
      "execution_count": null,
      "outputs": []
    },
    {
      "cell_type": "markdown",
      "metadata": {
        "id": "aSaSa34_KM09"
      },
      "source": [
        "#ROC AUC"
      ]
    },
    {
      "cell_type": "code",
      "metadata": {
        "id": "NzXQdcZFh0qa",
        "colab": {
          "base_uri": "https://localhost:8080/",
          "height": 295
        },
        "outputId": "54aa7be2-2480-44ed-a0b7-a4b1290dfbb3"
      },
      "source": [
        "import sklearn.metrics as metrics\n",
        "# calculate the fpr and tpr for all thresholds of the classification\n",
        "probs = model.predict(x_test)\n",
        "preds = probs\n",
        "fpr, tpr, threshold = metrics.roc_curve(y_test, preds)\n",
        "roc_auc = metrics.auc(fpr, tpr)\n",
        "\n",
        "# method I: plt\n",
        "import matplotlib.pyplot as plt\n",
        "plt.title('Receiver Operating CharacSteristic (ROC) CNN@60')\n",
        "plt.plot(fpr, tpr, 'b', label = 'AUC = %0.4f' % roc_auc)\n",
        "plt.legend(loc = 'lower right')\n",
        "plt.plot([0, 1], [0, 1],'r--')\n",
        "plt.xlim([0, 1])\n",
        "plt.ylim([0, 1])\n",
        "plt.ylabel('True Positive Rate')\n",
        "plt.xlabel('False Positive Rate')\n",
        "plt.show()"
      ],
      "execution_count": null,
      "outputs": [
        {
          "output_type": "display_data",
          "data": {
            "image/png": "[encoded data removed]",
            "text/plain": [
              "<Figure size 432x288 with 1 Axes>"
            ]
          },
          "metadata": {
            "tags": [],
            "needs_background": "light"
          }
        }
      ]
    },
    {
      "cell_type": "code",
      "metadata": {
        "id": "FOA7r-coaIHA",
        "colab": {
          "base_uri": "https://localhost:8080/",
          "height": 35
        },
        "outputId": "0712dad8-8677-46a8-d8f1-3a76c3d56a62"
      },
      "source": [
        "print(model)"
      ],
      "execution_count": null,
      "outputs": [
        {
          "output_type": "stream",
          "text": [
            "<tensorflow.python.keras.engine.sequential.Sequential object at 0x7f475a070f60>\n"
          ],
          "name": "stdout"
        }
      ]
    },
    {
      "cell_type": "code",
      "metadata": {
        "id": "en6nAwkPZoE9",
        "colab": {
          "base_uri": "https://localhost:8080/",
          "height": 1000
        },
        "outputId": "fcad07bf-75a7-42b3-fdcb-dc18b51255c1"
      },
      "source": [
        "import tensorflow as tf\n",
        "tf.keras.utils.plot_model(\n",
        "    model, to_file='model.png', show_shapes=False, show_layer_names=True,\n",
        "    rankdir='TB', expand_nested=False, dpi=96\n",
        ")\n"
      ],
      "execution_count": null,
      "outputs": [
        {
          "output_type": "execute_result",
          "data": {
            "image/png": "[encoded data removed]",
            "text/plain": [
              "<IPython.core.display.Image object>"
            ]
          },
          "metadata": {
            "tags": []
          },
          "execution_count": 72
        }
      ]
    },
    {
      "cell_type": "code",
      "metadata": {
        "id": "2_FL-9bOae6A",
        "colab": {
          "base_uri": "https://localhost:8080/",
          "height": 531
        },
        "outputId": "fdfae04f-4919-49a9-f1b3-d23ff48ae8c6"
      },
      "source": [
        "model.summary()"
      ],
      "execution_count": null,
      "outputs": [
        {
          "output_type": "stream",
          "text": [
            "Model: \"sequential\"\n",
            "_________________________________________________________________\n",
            "Layer (type)                 Output Shape              Param #   \n",
            "=================================================================\n",
            "conv1d (Conv1D)              (None, 92, 64)            2176      \n",
            "_________________________________________________________________\n",
            "max_pooling1d (MaxPooling1D) (None, 46, 64)            0         \n",
            "_________________________________________________________________\n",
            "conv1d_1 (Conv1D)            (None, 44, 32)            6176      \n",
            "_________________________________________________________________\n",
            "max_pooling1d_1 (MaxPooling1 (None, 22, 32)            0         \n",
            "_________________________________________________________________\n",
            "flatten (Flatten)            (None, 704)               0         \n",
            "_________________________________________________________________\n",
            "dense (Dense)                (None, 100)               70500     \n",
            "_________________________________________________________________\n",
            "dropout (Dropout)            (None, 100)               0         \n",
            "_________________________________________________________________\n",
            "dense_1 (Dense)              (None, 50)                5050      \n",
            "_________________________________________________________________\n",
            "dropout_1 (Dropout)          (None, 50)                0         \n",
            "_________________________________________________________________\n",
            "dense_2 (Dense)              (None, 1)                 51        \n",
            "=================================================================\n",
            "Total params: 83,953\n",
            "Trainable params: 83,953\n",
            "Non-trainable params: 0\n",
            "_________________________________________________________________\n"
          ],
          "name": "stdout"
        }
      ]
    },
    {
      "cell_type": "code",
      "metadata": {
        "id": "sfCaOe7KazjI",
        "colab": {
          "base_uri": "https://localhost:8080/"
        },
        "outputId": "bdb14e24-0a80-439f-b548-76ff265a88ae"
      },
      "source": [],
      "execution_count": null,
      "outputs": [
        {
          "output_type": "execute_result",
          "data": {
            "text/plain": [
              "26480    0\n",
              "17577    0\n",
              "11836    0\n",
              "22808    0\n",
              "16639    0\n",
              "        ..\n",
              "18413    0\n",
              "24574    0\n",
              "23984    0\n",
              "1031     1\n",
              "17549    0\n",
              "Name: OutPut, Length: 13537, dtype: int64"
            ]
          },
          "metadata": {
            "tags": []
          },
          "execution_count": 34
        }
      ]
    },
    {
      "cell_type": "code",
      "metadata": {
        "id": "bGaBZQwgC48z"
      },
      "source": [],
      "execution_count": null,
      "outputs": []
    }
  ]
}